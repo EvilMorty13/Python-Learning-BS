{
  "nbformat": 4,
  "nbformat_minor": 0,
  "metadata": {
    "colab": {
      "provenance": [],
      "authorship_tag": "ABX9TyOHEFr1lij9X9GffzQIJGkU",
      "include_colab_link": true
    },
    "kernelspec": {
      "name": "python3",
      "display_name": "Python 3"
    },
    "language_info": {
      "name": "python"
    }
  },
  "cells": [
    {
      "cell_type": "markdown",
      "metadata": {
        "id": "view-in-github",
        "colab_type": "text"
      },
      "source": [
        "<a href=\"https://colab.research.google.com/github/EvilMorty13/Python-Learning-BS/blob/main/Chapter_4.ipynb\" target=\"_parent\"><img src=\"https://colab.research.google.com/assets/colab-badge.svg\" alt=\"Open In Colab\"/></a>"
      ]
    },
    {
      "cell_type": "code",
      "execution_count": 3,
      "metadata": {
        "colab": {
          "base_uri": "https://localhost:8080/"
        },
        "id": "-kGwk3Dk-xHk",
        "outputId": "fd955ce2-d597-4aaa-abad-0669c22c915e"
      },
      "outputs": [
        {
          "output_type": "stream",
          "name": "stdout",
          "text": [
            "1\n",
            "3\n"
          ]
        }
      ],
      "source": [
        "a = 1\n",
        "b = 2\n",
        "c = 3\n",
        "\n",
        "minimum_value = min(a,b,c)\n",
        "\n",
        "print(minimum_value)\n",
        "\n",
        "maximum_value = max(a,b,c)\n",
        "\n",
        "print(maximum_value)"
      ]
    },
    {
      "cell_type": "code",
      "source": [
        "a,b,c = 1,2.3,4\n",
        "print(type(a))\n",
        "print(type(b))\n",
        "print(type(c))"
      ],
      "metadata": {
        "colab": {
          "base_uri": "https://localhost:8080/"
        },
        "id": "EqSkTXzuRLG4",
        "outputId": "1bf0ba1b-65ea-4c34-90e9-ea8d47d5fb30"
      },
      "execution_count": 5,
      "outputs": [
        {
          "output_type": "stream",
          "name": "stdout",
          "text": [
            "<class 'int'>\n",
            "<class 'float'>\n",
            "<class 'int'>\n"
          ]
        }
      ]
    },
    {
      "cell_type": "code",
      "source": [
        "a = -7.6\n",
        "a = abs(a)\n",
        "print (a)"
      ],
      "metadata": {
        "colab": {
          "base_uri": "https://localhost:8080/"
        },
        "id": "3pBdFjYKRdrk",
        "outputId": "321d8b98-4008-42e9-ad52-7e3c375f223e"
      },
      "execution_count": 6,
      "outputs": [
        {
          "output_type": "stream",
          "name": "stdout",
          "text": [
            "7.6\n"
          ]
        }
      ]
    },
    {
      "cell_type": "code",
      "source": [
        "#Exercise 4.1\n",
        "\n",
        "ahsoka = 1.7\n",
        "toda = 0.66\n",
        "r2d2 = 1.09\n",
        "\n",
        "avg_height = (ahsoka+toda+r2d2)/3\n",
        "max_height = max(ahsoka,toda,r2d2)\n",
        "min_height = min(ahsoka,toda,r2d2)\n",
        "\n",
        "print(\"Avarage height : \"+str(avg_height)+\" , Max Height : \"+str(max_height)+\" , Min Height : \"+str(min_height))\n"
      ],
      "metadata": {
        "colab": {
          "base_uri": "https://localhost:8080/"
        },
        "id": "F2aMCAMeTC6S",
        "outputId": "397b0292-e69e-4909-ffbc-15ed3409bbb8"
      },
      "execution_count": 11,
      "outputs": [
        {
          "output_type": "stream",
          "name": "stdout",
          "text": [
            "Avarage height : 1.1500000000000001 , Max Height : 1.7 , Min Height : 0.66\n"
          ]
        }
      ]
    },
    {
      "cell_type": "code",
      "source": [
        "name = input(\"What is your name? : \")\n",
        "height = input(\"What is your height? : \")\n",
        "age = input(\"What is your age? : \")\n",
        "\n",
        "print(\"Your name,height and age is \"+name+\" , \"+height+\" , \"+age)"
      ],
      "metadata": {
        "colab": {
          "base_uri": "https://localhost:8080/"
        },
        "id": "Y2a68BWrUwTe",
        "outputId": "2bf91f08-2cee-4991-d1a0-73b8b96153e7"
      },
      "execution_count": 17,
      "outputs": [
        {
          "output_type": "stream",
          "name": "stdout",
          "text": [
            "What is your name? : Yoda\n",
            "What is your height? : 3 feet\n",
            "What is your age? : 700\n",
            "Your name,height and age is Yoda , 3 feet , 700\n"
          ]
        }
      ]
    },
    {
      "cell_type": "code",
      "source": [
        "# Exercise 4.2\n",
        "\n",
        "name = input(\"What is your name? : \")\n",
        "age = input(\"What is your age? : \")\n",
        "\n",
        "print(\"Your name is \"+name+\" and your age is \"+age)\n",
        "\n"
      ],
      "metadata": {
        "colab": {
          "base_uri": "https://localhost:8080/"
        },
        "id": "BHn9PzP_V9Bn",
        "outputId": "a0b40378-cdc6-4cfd-c953-b3260502770b"
      },
      "execution_count": 18,
      "outputs": [
        {
          "output_type": "stream",
          "name": "stdout",
          "text": [
            "What is your name? : Alex\n",
            "What is your age? : 35\n",
            "Your name is Alex and your age is 35\n"
          ]
        }
      ]
    },
    {
      "cell_type": "code",
      "source": [
        "def your_name_function():\n",
        "  your_name = input(\"What is your name? \")\n",
        "  print(\"Your nane us \"+your_name)\n",
        "\n",
        "your_name_function()\n"
      ],
      "metadata": {
        "colab": {
          "base_uri": "https://localhost:8080/"
        },
        "id": "wWFHbsBuXabe",
        "outputId": "6989350d-53a5-459f-86d5-431e58c78377"
      },
      "execution_count": 20,
      "outputs": [
        {
          "output_type": "stream",
          "name": "stdout",
          "text": [
            "What is your name? Alex\n",
            "Your nane us Alex\n"
          ]
        }
      ]
    },
    {
      "cell_type": "code",
      "source": [
        "def age_of_rey():\n",
        "  age = input(\"How old is Rey? : \")\n",
        "  print(\"Rays age is \"+age)\n",
        "\n",
        "age_of_rey()"
      ],
      "metadata": {
        "colab": {
          "base_uri": "https://localhost:8080/"
        },
        "id": "w0Hnh6ouYqKS",
        "outputId": "d5267921-f4fa-4c21-d5a3-8976051c2fbf"
      },
      "execution_count": 21,
      "outputs": [
        {
          "output_type": "stream",
          "name": "stdout",
          "text": [
            "How old is Rey? : 19\n",
            "Rays age is 19\n"
          ]
        }
      ]
    },
    {
      "cell_type": "code",
      "source": [
        "name = input(\"What is his name ? \")\n",
        "age = int(input(\"What is \"+name+\"'s age ?\"))\n",
        "\n",
        "def age_in_one_year(name,age):\n",
        "  age_next_year = age+1\n",
        "  print(\"In one year,\"+name+\" will be \"+str(age_next_year)+\" years old\")\n",
        "\n",
        "age_in_one_year(name,age)"
      ],
      "metadata": {
        "colab": {
          "base_uri": "https://localhost:8080/"
        },
        "id": "t4kg7pl1bGwk",
        "outputId": "0e91f69a-733f-4dfe-9b34-38e831077fb0"
      },
      "execution_count": 23,
      "outputs": [
        {
          "output_type": "stream",
          "name": "stdout",
          "text": [
            "What is his name ? Mandolorian\n",
            "What is Mandolorian's age ?40\n",
            "In one year,Mandolorian will be 41 years old\n"
          ]
        }
      ]
    },
    {
      "cell_type": "code",
      "source": [
        "# Exercise 4.4\n",
        "\n",
        "name = input(\"Who was on the Titanic ? : \")\n",
        "curr_year = int(input(\"What year it is now? : \"))\n",
        "\n",
        "\n",
        "def titanic(name,curr_year):\n",
        "  time = curr_year - 1912\n",
        "  print(name+\" were on the titanic,which sunk \"+str(time)+\" years ago\")\n",
        "\n",
        "titanic(name,curr_year)\n"
      ],
      "metadata": {
        "colab": {
          "base_uri": "https://localhost:8080/"
        },
        "id": "T5Oi9z94eeVl",
        "outputId": "a111a621-a3ec-4c4c-bf63-9b937b8c451c"
      },
      "execution_count": 25,
      "outputs": [
        {
          "output_type": "stream",
          "name": "stdout",
          "text": [
            "Who was on the Titanic ? : Jack & Rose\n",
            "What year it is now? : 2024\n",
            "Jack & Rose were on the titanic,which sunk 112 years ago\n"
          ]
        }
      ]
    },
    {
      "cell_type": "code",
      "source": [
        "def your_name(name=\"Yoda\"):\n",
        "  print(\"My name is \"+name)\n",
        "\n",
        "your_name(\"Darth Vader\")\n",
        "your_name(\"Anakin\")\n",
        "your_name()"
      ],
      "metadata": {
        "colab": {
          "base_uri": "https://localhost:8080/"
        },
        "id": "at2Fa78GftaG",
        "outputId": "1c394b4a-9081-4dea-cbb3-dc9b00b15c64"
      },
      "execution_count": 26,
      "outputs": [
        {
          "output_type": "stream",
          "name": "stdout",
          "text": [
            "My name is Darth Vader\n",
            "My name is Anakin\n",
            "My name is Yoda\n"
          ]
        }
      ]
    },
    {
      "cell_type": "code",
      "source": [
        "# Exercise 4.5\n",
        "\n",
        "def my_age(age=19):\n",
        "  print(\"My age is \"+str(age))\n",
        "\n",
        "my_age(39)\n",
        "my_age()"
      ],
      "metadata": {
        "colab": {
          "base_uri": "https://localhost:8080/"
        },
        "id": "wP72PdtZgkit",
        "outputId": "7270855f-e6d9-4e40-fba2-fe5b2354e5fb"
      },
      "execution_count": 28,
      "outputs": [
        {
          "output_type": "stream",
          "name": "stdout",
          "text": [
            "My age is 39\n",
            "My age is 19\n"
          ]
        }
      ]
    },
    {
      "cell_type": "code",
      "source": [
        "def celsius_to_fahrenheit(temp):\n",
        "  return ((9/5)*temp)+32\n",
        "\n",
        "celsius_to_fahrenheit(30)"
      ],
      "metadata": {
        "colab": {
          "base_uri": "https://localhost:8080/"
        },
        "id": "EAJ7nQM_jh7h",
        "outputId": "3943e0db-4e1e-484f-8ed0-11538860552b"
      },
      "execution_count": 30,
      "outputs": [
        {
          "output_type": "execute_result",
          "data": {
            "text/plain": [
              "86.0"
            ]
          },
          "metadata": {},
          "execution_count": 30
        }
      ]
    },
    {
      "cell_type": "code",
      "source": [
        "# Exercise 4 Final\n",
        "\n",
        "first_number = float(input(\"Enter first number : \"))\n",
        "second_number = float(input(\"Enter second number : \"))\n",
        "\n",
        "operator = input(\"Enter an operator (+,-,*,/) : \")\n",
        "\n",
        "\n",
        "def addition(first_number,second_number):\n",
        "  return first_number+second_number\n",
        "def subtraction(first_number,second_number):\n",
        "  return first_number-second_number\n",
        "def multiplication(first_number,second_number):\n",
        "  return first_number*second_number\n",
        "def division(first_number,second_number):\n",
        "  return first_number/second_number\n",
        "\n",
        "if operator==\"+\":\n",
        "  print(addition(first_number,second_number))\n",
        "elif operator==\"-\":\n",
        "  print(subtraction(first_number,second_number))\n",
        "elif operator==\"*\":\n",
        "  print(multiplication(first_number,second_number))\n",
        "elif operator==\"/\":\n",
        "  print(division(first_number,second_number))\n",
        "else:\n",
        "  print(\"Invalid operator\")\n"
      ],
      "metadata": {
        "colab": {
          "base_uri": "https://localhost:8080/"
        },
        "id": "2YMl1w03khvV",
        "outputId": "720f44e4-16ff-4a42-d378-1e21c7790505"
      },
      "execution_count": 45,
      "outputs": [
        {
          "output_type": "stream",
          "name": "stdout",
          "text": [
            "Enter first number : 20\n",
            "Enter second number : 2\n",
            "Enter an operator (+,-,*,/) : /\n",
            "10.0\n"
          ]
        }
      ]
    }
  ]
}