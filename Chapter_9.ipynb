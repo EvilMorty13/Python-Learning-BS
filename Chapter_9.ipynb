{
  "nbformat": 4,
  "nbformat_minor": 0,
  "metadata": {
    "colab": {
      "provenance": [],
      "authorship_tag": "ABX9TyO3xd9pJld49zfUwMn7osZn",
      "include_colab_link": true
    },
    "kernelspec": {
      "name": "python3",
      "display_name": "Python 3"
    },
    "language_info": {
      "name": "python"
    }
  },
  "cells": [
    {
      "cell_type": "markdown",
      "metadata": {
        "id": "view-in-github",
        "colab_type": "text"
      },
      "source": [
        "<a href=\"https://colab.research.google.com/github/EvilMorty13/Python-Learning-BS/blob/main/Chapter_9.ipynb\" target=\"_parent\"><img src=\"https://colab.research.google.com/assets/colab-badge.svg\" alt=\"Open In Colab\"/></a>"
      ]
    },
    {
      "cell_type": "markdown",
      "source": [
        "## OOP"
      ],
      "metadata": {
        "id": "8GQ6lX9Fs8Pw"
      }
    },
    {
      "cell_type": "code",
      "source": [
        "class Dog():\n",
        "  def __init__(self,name):\n",
        "    print(\"Hey! I am a dog\")\n",
        "    print(\"My name is \"+name)\n",
        "\n",
        "\n",
        "dog1 = Dog(\"Tom\")\n",
        "dog2 = Dog(\"Jerry\")\n",
        "\n"
      ],
      "metadata": {
        "colab": {
          "base_uri": "https://localhost:8080/"
        },
        "id": "VA0ZBz2ns-KD",
        "outputId": "a09b472f-5f23-4d33-d5bd-0ecf63e72439"
      },
      "execution_count": 10,
      "outputs": [
        {
          "output_type": "stream",
          "name": "stdout",
          "text": [
            "Hey! I am a dog\n",
            "My name is Tom\n",
            "Hey! I am a dog\n",
            "My name is Jerry\n"
          ]
        }
      ]
    },
    {
      "cell_type": "markdown",
      "source": [
        "## Exercise 9.1 Creating Your First Class and Instance"
      ],
      "metadata": {
        "id": "8-j5MEWSw8nN"
      }
    },
    {
      "cell_type": "code",
      "source": [
        "class Person():\n",
        "  def __init__(self,name,age):\n",
        "    print(\"My name is\",name)\n",
        "    print(\"I am\",age,\"years old\")\n",
        "\n",
        "\n",
        "person1 = Person(\"Alex\",24)\n"
      ],
      "metadata": {
        "colab": {
          "base_uri": "https://localhost:8080/"
        },
        "id": "goD3yDZ1w9eu",
        "outputId": "12b4e673-df79-4aeb-8a95-d73b810f60b5"
      },
      "execution_count": 16,
      "outputs": [
        {
          "output_type": "stream",
          "name": "stdout",
          "text": [
            "My name is Alex\n",
            "I am 24 years old\n"
          ]
        }
      ]
    },
    {
      "cell_type": "markdown",
      "source": [
        "##Defining Methods in a Class"
      ],
      "metadata": {
        "id": "kEK6Y6GPyV6j"
      }
    },
    {
      "cell_type": "code",
      "source": [
        "class Dog():\n",
        "  def __init__(self,name):\n",
        "    print(\"Hey! I am a dog\")\n",
        "    print(\"My name is \"+name)\n",
        "  def bark(self):\n",
        "    print(\"Woof\")\n",
        "\n",
        "dog1 = Dog(\"Tom\")\n",
        "dog1.bark()\n",
        "dog2 = Dog(\"Jerry\")\n",
        "dog2.bark()"
      ],
      "metadata": {
        "colab": {
          "base_uri": "https://localhost:8080/"
        },
        "id": "jBoGC0k5yXqo",
        "outputId": "f8501c1f-3973-411f-a5fe-6435effbd922"
      },
      "execution_count": 20,
      "outputs": [
        {
          "output_type": "stream",
          "name": "stdout",
          "text": [
            "Hey! I am a dog\n",
            "My name is Tom\n",
            "Woof\n",
            "Hey! I am a dog\n",
            "My name is Jerry\n",
            "Woof\n"
          ]
        }
      ]
    },
    {
      "cell_type": "markdown",
      "source": [
        "##Understanding Self in Python"
      ],
      "metadata": {
        "id": "R0g-lrmRy2ZX"
      }
    },
    {
      "cell_type": "code",
      "source": [
        "class Dog():\n",
        "  def __init__(self,name):\n",
        "    print(\"Hey! I am a dog\")\n",
        "    print(\"My name is \"+name)\n",
        "    self.dogs_name = name\n",
        "  def bark(self):\n",
        "    print(self.dogs_name,\"says Woof\")\n",
        "  def walk(self,location):\n",
        "    print(self.dogs_name,\"is walking towards\",location)\n",
        "\n",
        "dog1 = Dog(\"Eva\")\n",
        "dog1.bark()\n",
        "dog1.walk(\"park\")\n",
        "dog2 = Dog(\"Maria\")\n",
        "dog2.bark()\n",
        "dog2.walk(\"house\")"
      ],
      "metadata": {
        "colab": {
          "base_uri": "https://localhost:8080/"
        },
        "id": "E3daFz3Zy3tM",
        "outputId": "cd4e169b-fba1-45e1-aed8-1bae17ee5641"
      },
      "execution_count": 23,
      "outputs": [
        {
          "output_type": "stream",
          "name": "stdout",
          "text": [
            "Hey! I am a dog\n",
            "My name is Eva\n",
            "Eva says Woof\n",
            "Eva is walking towards Park\n",
            "Hey! I am a dog\n",
            "My name is Maria\n",
            "Maria says Woof\n",
            "Maria is walking towards House\n"
          ]
        }
      ]
    },
    {
      "cell_type": "markdown",
      "source": [
        "##Class Attributes Versus Instance Attributes"
      ],
      "metadata": {
        "id": "VgKWrx8R0sph"
      }
    },
    {
      "cell_type": "code",
      "source": [
        "class Dog():\n",
        "  number_of_legs = 4\n",
        "  def __init__(self,name):\n",
        "    print(\"Hey! I am a dog\")\n",
        "    print(\"My name is \"+name)\n",
        "    self.dogs_name = name\n",
        "  def bark(self):\n",
        "    print(self.dogs_name,\"says Woof\")\n",
        "  def walk(self,location):\n",
        "    print(self.dogs_name,\"is walking towards\",location)\n",
        "\n",
        "dog1 = Dog(\"Eva\")\n",
        "dog1.bark()\n",
        "print(dog1.number_of_legs)\n",
        "dog1.walk(\"park\")\n",
        "dog2 = Dog(\"Maria\")\n",
        "dog2.bark()\n",
        "dog2.walk(\"house\")"
      ],
      "metadata": {
        "colab": {
          "base_uri": "https://localhost:8080/"
        },
        "id": "Bt26M4so0uQ8",
        "outputId": "f2d9aed8-4589-44fa-d58a-82acb56be130"
      },
      "execution_count": 25,
      "outputs": [
        {
          "output_type": "stream",
          "name": "stdout",
          "text": [
            "Hey! I am a dog\n",
            "My name is Eva\n",
            "Eva says Woof\n",
            "4\n",
            "Eva is walking towards park\n",
            "Hey! I am a dog\n",
            "My name is Maria\n",
            "Maria says Woof\n",
            "Maria is walking towards house\n"
          ]
        }
      ]
    },
    {
      "cell_type": "markdown",
      "source": [
        "##Exercise 9.2 Classes, Instances and Attributes"
      ],
      "metadata": {
        "id": "JKduFe-g1Nq0"
      }
    },
    {
      "cell_type": "code",
      "source": [
        "class Car():\n",
        "  wheels = 4\n",
        "\n",
        "  def __init__(self,maker,model):\n",
        "    print(maker,model,\"has\",self.wheels,\"wheels\")\n",
        "\n",
        "\n",
        "car1 = Car(\"Tesla\",\"CyberTruck\")"
      ],
      "metadata": {
        "colab": {
          "base_uri": "https://localhost:8080/"
        },
        "id": "NkLYTBUd1OiH",
        "outputId": "d37c5ee3-281b-42ca-dccf-f3d49aa20b41"
      },
      "execution_count": 29,
      "outputs": [
        {
          "output_type": "stream",
          "name": "stdout",
          "text": [
            "Tesla CyberTruck has 4 wheels\n"
          ]
        }
      ]
    },
    {
      "cell_type": "markdown",
      "source": [
        "##Inheritance Extending Functionality"
      ],
      "metadata": {
        "id": "ubZxqAWl2Wpu"
      }
    },
    {
      "cell_type": "code",
      "source": [
        "class Vehicle():\n",
        "  def start_engine(self):\n",
        "    print(\"Engine started!\")\n",
        "  def drive(self):\n",
        "    print(\"Lets goooo\")\n",
        "\n",
        "\n",
        "class Truck(Vehicle):\n",
        "  def __init__(self, ):\n",
        "    print(\"I am a truck\")\n",
        "\n",
        "\n",
        "my_truck = Truck()\n",
        "my_truck.start_engine()\n",
        "my_truck.drive()\n"
      ],
      "metadata": {
        "colab": {
          "base_uri": "https://localhost:8080/"
        },
        "id": "sU25BprD2YRa",
        "outputId": "ab3ca4ca-3067-4d8b-fb65-b6845a3987c5"
      },
      "execution_count": 40,
      "outputs": [
        {
          "output_type": "stream",
          "name": "stdout",
          "text": [
            "I am a truck\n",
            "Engine started!\n",
            "Lets goooo\n"
          ]
        }
      ]
    },
    {
      "cell_type": "markdown",
      "source": [
        "##Encapsulation Hiding Information"
      ],
      "metadata": {
        "id": "x2PHw6BQ5Z47"
      }
    },
    {
      "cell_type": "code",
      "source": [
        "class BankAccount():\n",
        "  def __init__(self,balance):\n",
        "    self.__balance = balance;\n",
        "\n",
        "  def deposit(self,amount):\n",
        "    self.__balance += amount;\n",
        "\n",
        "  def get_balance(self):\n",
        "    return self.__balance\n",
        "\n",
        "account = BankAccount(100)\n",
        "\n",
        "account.deposit(50)\n",
        "\n",
        "print(account.get_balance())\n"
      ],
      "metadata": {
        "colab": {
          "base_uri": "https://localhost:8080/"
        },
        "id": "OcLUXvIK5bOL",
        "outputId": "3fc65742-48ce-4c77-bdf1-31060c9d4be3"
      },
      "execution_count": 44,
      "outputs": [
        {
          "output_type": "stream",
          "name": "stdout",
          "text": [
            "150\n"
          ]
        }
      ]
    },
    {
      "cell_type": "markdown",
      "source": [
        "##Exercise 9.3 Implementing Encapsulation"
      ],
      "metadata": {
        "id": "dMubMd3D8YUV"
      }
    },
    {
      "cell_type": "code",
      "source": [
        "class Computer():\n",
        "  def __init__(self,brand,model):\n",
        "    self.__brand = brand\n",
        "    self.__model = model\n",
        "\n",
        "  def getinfo(self):\n",
        "    print(self.__brand, self.__model)\n",
        "\n",
        "com = Computer(\"ASUS\",\"G14\")\n",
        "\n",
        "com.getinfo()"
      ],
      "metadata": {
        "colab": {
          "base_uri": "https://localhost:8080/"
        },
        "id": "L7htdrv-8ZWN",
        "outputId": "48359dd1-43ec-4ec8-cd21-a063b6262d94"
      },
      "execution_count": 47,
      "outputs": [
        {
          "output_type": "stream",
          "name": "stdout",
          "text": [
            "ASUS G14\n"
          ]
        }
      ]
    },
    {
      "cell_type": "markdown",
      "source": [
        "##Understanding Magic Dunder Methods"
      ],
      "metadata": {
        "id": "AeUjvMun-m0C"
      }
    },
    {
      "cell_type": "code",
      "source": [
        "class Book():\n",
        "  def __init__(self,title,author):\n",
        "    self.title = title\n",
        "    self.author = author\n",
        "\n",
        "  def __str__(self):\n",
        "    return self.title+\" By : \"+self.author\n",
        "\n",
        "book = Book(\"Harry Potter\",\"JKRowling\")\n",
        "\n",
        "print(book)"
      ],
      "metadata": {
        "colab": {
          "base_uri": "https://localhost:8080/"
        },
        "id": "JaVxLV4P-nz_",
        "outputId": "fd4ad794-b8f4-45f7-ae38-41c4809c6868"
      },
      "execution_count": 52,
      "outputs": [
        {
          "output_type": "stream",
          "name": "stdout",
          "text": [
            "Harry Potter By : JKRowling\n"
          ]
        }
      ]
    },
    {
      "cell_type": "markdown",
      "source": [
        "##Understanding Composition and Aggregation"
      ],
      "metadata": {
        "id": "w24yIQLxBIO4"
      }
    },
    {
      "cell_type": "code",
      "source": [
        "class Engine():\n",
        "  def start(self):\n",
        "    print(\"Engine started\")\n",
        "\n",
        "\n",
        "class Car():\n",
        "  def __init__(self):\n",
        "    self.engine = Engine()\n",
        "\n",
        "car = Car()\n",
        "\n",
        "car.engine.start()"
      ],
      "metadata": {
        "colab": {
          "base_uri": "https://localhost:8080/"
        },
        "id": "Zp39zo_HBJcH",
        "outputId": "2344d143-238a-4c4f-f948-38a320b05095"
      },
      "execution_count": 54,
      "outputs": [
        {
          "output_type": "stream",
          "name": "stdout",
          "text": [
            "Engine started\n"
          ]
        }
      ]
    },
    {
      "cell_type": "markdown",
      "source": [
        "## Level 9 Final Exercise Simple Bank Account Manager"
      ],
      "metadata": {
        "id": "Yl1D59kYDFFo"
      }
    },
    {
      "cell_type": "code",
      "source": [
        "class BankAccount():\n",
        "  def __init__(self,account_number,initial_balance=0):\n",
        "    self.__account_number = account_number\n",
        "    self.__initial_balance = initial_balance\n",
        "\n",
        "  def deposit(self,amount):\n",
        "    self.__initial_balance += amount\n",
        "\n",
        "  def withdraw(self,amount):\n",
        "     self.__initial_balance -= amount\n",
        "\n",
        "  def check_balance(self):\n",
        "     return \"Account_number : \"+str(self.__account_number)+\" Balance : \"+str(self.__initial_balance)\n",
        "\n",
        "\n",
        "account1 = BankAccount(12345,5000)\n",
        "\n",
        "account1.deposit(100)\n",
        "account1.withdraw(50)\n",
        "\n",
        "account1.check_balance()"
      ],
      "metadata": {
        "colab": {
          "base_uri": "https://localhost:8080/",
          "height": 38
        },
        "id": "uTnNgYqVDs68",
        "outputId": "b2725d25-b264-41ea-ce85-e54f66762f3b"
      },
      "execution_count": 59,
      "outputs": [
        {
          "output_type": "execute_result",
          "data": {
            "text/plain": [
              "'Account_number : 12345 Balance : 5050'"
            ],
            "application/vnd.google.colaboratory.intrinsic+json": {
              "type": "string"
            }
          },
          "metadata": {},
          "execution_count": 59
        }
      ]
    },
    {
      "cell_type": "markdown",
      "source": [],
      "metadata": {
        "id": "nOiUYA2PBGeb"
      }
    }
  ]
}