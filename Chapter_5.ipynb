{
  "nbformat": 4,
  "nbformat_minor": 0,
  "metadata": {
    "colab": {
      "provenance": [],
      "authorship_tag": "ABX9TyMJsQ+lQS40oqspjNDKoMAS",
      "include_colab_link": true
    },
    "kernelspec": {
      "name": "python3",
      "display_name": "Python 3"
    },
    "language_info": {
      "name": "python"
    }
  },
  "cells": [
    {
      "cell_type": "markdown",
      "metadata": {
        "id": "view-in-github",
        "colab_type": "text"
      },
      "source": [
        "<a href=\"https://colab.research.google.com/github/EvilMorty13/Python-Learning-BS/blob/main/Chapter_5.ipynb\" target=\"_parent\"><img src=\"https://colab.research.google.com/assets/colab-badge.svg\" alt=\"Open In Colab\"/></a>"
      ]
    },
    {
      "cell_type": "markdown",
      "source": [
        "## List Data Type"
      ],
      "metadata": {
        "id": "UQU8NQmLvZzW"
      }
    },
    {
      "cell_type": "code",
      "execution_count": 10,
      "metadata": {
        "colab": {
          "base_uri": "https://localhost:8080/"
        },
        "id": "JCQL1sDutbUk",
        "outputId": "163ad9ab-661d-4330-ca7c-50c83b28dec2"
      },
      "outputs": [
        {
          "output_type": "stream",
          "name": "stdout",
          "text": [
            "[20, 10]\n",
            "<class 'list'>\n",
            "30\n"
          ]
        }
      ],
      "source": [
        "boba_fett_exp = 20\n",
        "storm_trooper_experience = 10\n",
        "\n",
        "experience=[boba_fett_exp,storm_trooper_experience]\n",
        "total_exp = sum(experience)\n",
        "print(experience)\n",
        "print(type(experience))\n",
        "print(total_exp)"
      ]
    },
    {
      "cell_type": "markdown",
      "source": [
        "## Exercise 5.1"
      ],
      "metadata": {
        "id": "MBIipwBIvXa8"
      }
    },
    {
      "cell_type": "code",
      "source": [
        "ahsoka = 1.7\n",
        "yoda = 0.66\n",
        "r2d2 = 1.09\n",
        "jedi_height = [ahsoka,yoda,r2d2]\n",
        "\n",
        "print(type(jedi_height))\n",
        "print(sum(jedi_height))"
      ],
      "metadata": {
        "colab": {
          "base_uri": "https://localhost:8080/"
        },
        "id": "5SlCVeqxxpgi",
        "outputId": "c9527fef-b722-4574-b74b-4b5a9491e7f3"
      },
      "execution_count": 4,
      "outputs": [
        {
          "output_type": "stream",
          "name": "stdout",
          "text": [
            "<class 'list'>\n",
            "3.45\n"
          ]
        }
      ]
    },
    {
      "cell_type": "markdown",
      "source": [
        "## Exercise 5 final"
      ],
      "metadata": {
        "id": "jMwskujbyUR0"
      }
    },
    {
      "cell_type": "code",
      "source": [
        "shopping_list = [\"Milk\",\"Eggs\",\"Bread\",\"Bananas\"]\n",
        "print(shopping_list)\n",
        "\n",
        "shopping_list.append(\"Apple\")\n",
        "print(shopping_list)\n",
        "\n",
        "shopping_list.remove(\"Bread\")\n",
        "print(shopping_list)\n",
        "\n",
        "def show_list(shopping_list):\n",
        "  for item in shopping_list:\n",
        "    print(item)\n",
        "\n",
        "def total_items(shopping_list):\n",
        "  return len(shopping_list)\n",
        "\n",
        "\n",
        "show_list(shopping_list)\n",
        "print(\"Total items : \"+str(total_items(shopping_list)))"
      ],
      "metadata": {
        "colab": {
          "base_uri": "https://localhost:8080/"
        },
        "id": "u8oDADg3yX8P",
        "outputId": "e42eb5ae-b2c0-4222-d244-0b6beaacab23"
      },
      "execution_count": 9,
      "outputs": [
        {
          "output_type": "stream",
          "name": "stdout",
          "text": [
            "['Milk', 'Eggs', 'Bread', 'Bananas']\n",
            "['Milk', 'Eggs', 'Bread', 'Bananas', 'Apple']\n",
            "['Milk', 'Eggs', 'Bananas', 'Apple']\n",
            "Milk\n",
            "Eggs\n",
            "Bananas\n",
            "Apple\n",
            "Total items : 4\n"
          ]
        }
      ]
    }
  ]
}