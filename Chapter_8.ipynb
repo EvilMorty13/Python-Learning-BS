{
  "nbformat": 4,
  "nbformat_minor": 0,
  "metadata": {
    "colab": {
      "provenance": [],
      "authorship_tag": "ABX9TyOOwY/FehPd7pCewctPx7U8",
      "include_colab_link": true
    },
    "kernelspec": {
      "name": "python3",
      "display_name": "Python 3"
    },
    "language_info": {
      "name": "python"
    }
  },
  "cells": [
    {
      "cell_type": "markdown",
      "metadata": {
        "id": "view-in-github",
        "colab_type": "text"
      },
      "source": [
        "<a href=\"https://colab.research.google.com/github/EvilMorty13/Python-Learning-BS/blob/main/Chapter_8.ipynb\" target=\"_parent\"><img src=\"https://colab.research.google.com/assets/colab-badge.svg\" alt=\"Open In Colab\"/></a>"
      ]
    },
    {
      "cell_type": "markdown",
      "source": [
        "## Method"
      ],
      "metadata": {
        "id": "DfoS_ngRH-ga"
      }
    },
    {
      "cell_type": "code",
      "source": [
        "name = \"rey\"\n",
        "print(name.upper())\n",
        "\n",
        "print(name.count(\"y\"))\n",
        "\n",
        "print(name.replace(\"y\",\"d\"))"
      ],
      "metadata": {
        "colab": {
          "base_uri": "https://localhost:8080/"
        },
        "id": "BK6iTH_qIFBC",
        "outputId": "0ed8be4d-5d95-4e3d-bbea-89a60aa4bbbe"
      },
      "execution_count": 3,
      "outputs": [
        {
          "output_type": "stream",
          "name": "stdout",
          "text": [
            "REY\n",
            "1\n",
            "red\n"
          ]
        }
      ]
    },
    {
      "cell_type": "markdown",
      "source": [
        "## Exercise 8.1 Methods"
      ],
      "metadata": {
        "id": "Ibbq799HIvgX"
      }
    },
    {
      "cell_type": "code",
      "source": [
        "name = \"C3P0\"\n",
        "\n",
        "print(name.replace(\"C3P0\",\"R2D2\"))"
      ],
      "metadata": {
        "colab": {
          "base_uri": "https://localhost:8080/"
        },
        "id": "S43_hkLdI1-V",
        "outputId": "617eb65c-0a88-45c0-8e57-3ecb3053f8e1"
      },
      "execution_count": 6,
      "outputs": [
        {
          "output_type": "stream",
          "name": "stdout",
          "text": [
            "R2D2\n"
          ]
        }
      ]
    },
    {
      "cell_type": "markdown",
      "source": [
        "## String Methods"
      ],
      "metadata": {
        "id": "ekZwKgONJsBt"
      }
    },
    {
      "cell_type": "code",
      "source": [
        "name = \"chris\"\n",
        "\n",
        "print(name.upper())\n",
        "print(name)\n",
        "\n",
        "name.isdigit()\n",
        "name.isalpha()\n",
        "name.isspace()"
      ],
      "metadata": {
        "colab": {
          "base_uri": "https://localhost:8080/"
        },
        "id": "vcmCqoRRJt9I",
        "outputId": "ee64931d-106d-42a2-c378-1568ecf512bb"
      },
      "execution_count": 10,
      "outputs": [
        {
          "output_type": "stream",
          "name": "stdout",
          "text": [
            "CHRIS\n",
            "chris\n"
          ]
        },
        {
          "output_type": "execute_result",
          "data": {
            "text/plain": [
              "False"
            ]
          },
          "metadata": {},
          "execution_count": 10
        }
      ]
    },
    {
      "cell_type": "markdown",
      "source": [
        "##Exercise 8.2 String Methods"
      ],
      "metadata": {
        "id": "Zz8QuhVtKnqe"
      }
    },
    {
      "cell_type": "code",
      "source": [
        "jacks_name = \"Jack\"\n",
        "empty_glass_case = \"  \"\n",
        "\n",
        "\n",
        "print(jacks_name.isalpha())\n",
        "print(empty_glass_case.isspace())\n"
      ],
      "metadata": {
        "colab": {
          "base_uri": "https://localhost:8080/"
        },
        "id": "lLMKetrsKomp",
        "outputId": "10d89bc8-9256-455b-a03e-db9e73c85002"
      },
      "execution_count": 18,
      "outputs": [
        {
          "output_type": "stream",
          "name": "stdout",
          "text": [
            "True\n",
            "True\n"
          ]
        }
      ]
    },
    {
      "cell_type": "markdown",
      "source": [
        "##Advanced String Operations"
      ],
      "metadata": {
        "id": "atX_8PdKWfcQ"
      }
    },
    {
      "cell_type": "code",
      "source": [
        "name = \"Darth Vader\"\n",
        "x = name.split(\" \")\n",
        "print(x)\n",
        "print(type(x))\n",
        "\n",
        "name2 = \"sdkfnsdnfjsdfsdf\\nsdfmksdfm\\nasddfs\"\n",
        "x = name2.splitlines()\n",
        "print(x)\n",
        "print(type(x))\n"
      ],
      "metadata": {
        "colab": {
          "base_uri": "https://localhost:8080/"
        },
        "id": "r0ov36krWg8p",
        "outputId": "6ffa5fad-d00a-47d5-bf6a-ad2fab60d673"
      },
      "execution_count": 24,
      "outputs": [
        {
          "output_type": "stream",
          "name": "stdout",
          "text": [
            "['Darth', 'Vader']\n",
            "<class 'list'>\n",
            "['sdkfnsdnfjsdfsdf', 'sdfmksdfm', 'asddfs']\n",
            "<class 'list'>\n"
          ]
        }
      ]
    },
    {
      "cell_type": "code",
      "source": [
        "name = (\"Lionel\",\"Messi\")\n",
        "print(type(name))\n",
        "\n",
        "x = \"Andrew\".join(name)\n",
        "print(x)"
      ],
      "metadata": {
        "colab": {
          "base_uri": "https://localhost:8080/"
        },
        "id": "Zo5vwWj2Yw5B",
        "outputId": "089c13e6-4bc6-410f-8a90-e7f5e0b43959"
      },
      "execution_count": 26,
      "outputs": [
        {
          "output_type": "stream",
          "name": "stdout",
          "text": [
            "<class 'tuple'>\n",
            "LionelAndrewMessiAndrewafsdf\n"
          ]
        }
      ]
    },
    {
      "cell_type": "code",
      "source": [
        "name = \"Messi\"\n",
        "x = name.strip(\"i\")\n",
        "print(x)"
      ],
      "metadata": {
        "colab": {
          "base_uri": "https://localhost:8080/"
        },
        "id": "HBZt-2fHZeye",
        "outputId": "e6a872a9-611d-4073-fbdf-3a11c7eb692e"
      },
      "execution_count": 29,
      "outputs": [
        {
          "output_type": "stream",
          "name": "stdout",
          "text": [
            "Mess\n"
          ]
        }
      ]
    },
    {
      "cell_type": "code",
      "source": [
        "name = \"Darth Vader\"\n",
        "x = name.find(\"V\")\n",
        "print(x)"
      ],
      "metadata": {
        "colab": {
          "base_uri": "https://localhost:8080/"
        },
        "id": "QgvZuFVZaAqK",
        "outputId": "fac0382e-de35-4c28-e3bc-5fe4740485fd"
      },
      "execution_count": 31,
      "outputs": [
        {
          "output_type": "stream",
          "name": "stdout",
          "text": [
            "6\n"
          ]
        }
      ]
    },
    {
      "cell_type": "markdown",
      "source": [
        "## Exercise 8.3: Advanced String Operations"
      ],
      "metadata": {
        "id": "pJTsdsJxayE4"
      }
    },
    {
      "cell_type": "code",
      "source": [
        "name1 = \"Princess Leia\"\n",
        "x = name1.split()\n",
        "print(x)\n",
        "\n",
        "name2 = \"Baby Yoda\"\n",
        "x = name2.lstrip(\"Baby \")\n",
        "print(x)\n",
        "\n",
        "name3 = \"Baby Yoda\"\n",
        "x = name3.replace(\"Baby\",\"Master\")\n",
        "print(x)\n"
      ],
      "metadata": {
        "colab": {
          "base_uri": "https://localhost:8080/"
        },
        "id": "1q175lY7a1xt",
        "outputId": "e50d850e-1fe8-4829-c6f8-f3ba3b0876f2"
      },
      "execution_count": 36,
      "outputs": [
        {
          "output_type": "stream",
          "name": "stdout",
          "text": [
            "['Princess', 'Leia']\n",
            "Yoda\n",
            "Master Yoda\n"
          ]
        }
      ]
    },
    {
      "cell_type": "markdown",
      "source": [
        "##Lambda Functions & Map"
      ],
      "metadata": {
        "id": "EED596Y1dZm9"
      }
    },
    {
      "cell_type": "code",
      "source": [
        "example_list = [1,2,3,4,5]\n",
        "l1 = list(map(lambda x: x**2, example_list))\n",
        "print(l1)\n",
        "\n",
        "# lambda arguments: expression\n",
        "# map(function, iterable)\n",
        "\n",
        "\n",
        "second_list=[(1,2,3),(4,5,6)]\n",
        "l2 = list(map(lambda x:x[0]+x[1]+x[2],second_list))\n",
        "print(l2)"
      ],
      "metadata": {
        "colab": {
          "base_uri": "https://localhost:8080/"
        },
        "id": "cvsirivddciX",
        "outputId": "dfa42630-31dd-4ec7-a31a-326533819c62"
      },
      "execution_count": 46,
      "outputs": [
        {
          "output_type": "stream",
          "name": "stdout",
          "text": [
            "[1, 4, 9, 16, 25]\n",
            "[6, 15]\n"
          ]
        }
      ]
    },
    {
      "cell_type": "markdown",
      "source": [
        "## Recursion"
      ],
      "metadata": {
        "id": "R02HuN5EgFy8"
      }
    },
    {
      "cell_type": "code",
      "source": [
        "def factorial(n):\n",
        "  if n==0:\n",
        "    return 1\n",
        "  else:\n",
        "    return n*factorial(n-1)\n",
        "\n",
        "print(factorial(5))"
      ],
      "metadata": {
        "colab": {
          "base_uri": "https://localhost:8080/"
        },
        "id": "iMwKI_mPgIgQ",
        "outputId": "57d6b2a2-5ae0-4317-b8eb-ea1692a0caba"
      },
      "execution_count": 47,
      "outputs": [
        {
          "output_type": "stream",
          "name": "stdout",
          "text": [
            "120\n"
          ]
        }
      ]
    },
    {
      "cell_type": "markdown",
      "source": [
        "##Level 8 Final Exercise Customer Support Chat Log Analysis"
      ],
      "metadata": {
        "id": "TLKeU-1AiW89"
      }
    },
    {
      "cell_type": "code",
      "source": [
        "chat_logs =[\n",
        "    \"My order is delayed\",\n",
        "    \"I want to return my purchase\",\n",
        "    \"The app is crashing frequently\",\n",
        "    \"Payment issues, please help\",\n",
        "    \"Need help with account recovery\",\n",
        "    \"Delivery was incomplete\",\n",
        "    \"Can't login to my account\",\n",
        "    \"Having trouble with checkout\"\n",
        "]\n",
        "\n",
        "\n",
        "categories = {\"Order\":0,\"App\":0,\"Payment\":0,\"Account\":0,\"Delivery\":0}\n",
        "\n",
        "for log in chat_logs:\n",
        "    log = log.lower()\n",
        "    for category in categories.keys():\n",
        "      if category.lower() in log:\n",
        "        categories[category]+=1\n",
        "\n",
        "def keyword_search(keyword,logs):\n",
        "  for log in logs:\n",
        "    if keyword.lower() in log.lower():\n",
        "      print(log)\n",
        "\n",
        "print(categories)\n",
        "\n",
        "search = input(\"What you want to search? : \")\n",
        "\n",
        "keyword_search(search,chat_logs)"
      ],
      "metadata": {
        "colab": {
          "base_uri": "https://localhost:8080/"
        },
        "id": "13zESiA0iYFT",
        "outputId": "174225eb-c8ea-4bd0-c42b-1d8fec977e44"
      },
      "execution_count": 63,
      "outputs": [
        {
          "output_type": "stream",
          "name": "stdout",
          "text": [
            "{'Order': 1, 'App': 1, 'Payment': 1, 'Account': 2, 'Delivery': 1}\n",
            "What you want to search? : Account\n",
            "Need help with account recovery\n",
            "Can't login to my account\n"
          ]
        }
      ]
    }
  ]
}