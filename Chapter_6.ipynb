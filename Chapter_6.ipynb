{
  "nbformat": 4,
  "nbformat_minor": 0,
  "metadata": {
    "colab": {
      "provenance": [],
      "authorship_tag": "ABX9TyOLArVkZZEkVts/xB7xSHju",
      "include_colab_link": true
    },
    "kernelspec": {
      "name": "python3",
      "display_name": "Python 3"
    },
    "language_info": {
      "name": "python"
    }
  },
  "cells": [
    {
      "cell_type": "markdown",
      "metadata": {
        "id": "view-in-github",
        "colab_type": "text"
      },
      "source": [
        "<a href=\"https://colab.research.google.com/github/EvilMorty13/Python-Learning-BS/blob/main/Chapter_6.ipynb\" target=\"_parent\"><img src=\"https://colab.research.google.com/assets/colab-badge.svg\" alt=\"Open In Colab\"/></a>"
      ]
    },
    {
      "cell_type": "markdown",
      "source": [
        "## If-Else"
      ],
      "metadata": {
        "id": "AOC8VVMK6tNl"
      }
    },
    {
      "cell_type": "code",
      "source": [
        "name = input(\"Name of the star wars character? : \")\n",
        "jedi_test = input(\"Is the character holding a lightsaver? : \")\n",
        "\n",
        "if jedi_test == \"Yes\":\n",
        "  print(name+\" is a jedi\")\n",
        "else:\n",
        "  print(name+\" is not a jedi\")"
      ],
      "metadata": {
        "colab": {
          "base_uri": "https://localhost:8080/"
        },
        "id": "05iXSy_q6wlc",
        "outputId": "7689cc27-e1da-41be-8a71-710f56158400"
      },
      "execution_count": null,
      "outputs": [
        {
          "output_type": "stream",
          "name": "stdout",
          "text": [
            "Name of the star wars character? : Yoda\n",
            "Is the character holding a lightsaver? : Yes\n",
            "Yoda is a jedi\n"
          ]
        }
      ]
    },
    {
      "cell_type": "markdown",
      "source": [
        "## Exercise 6.1"
      ],
      "metadata": {
        "id": "ZHH2BFyP8Qtd"
      }
    },
    {
      "cell_type": "code",
      "source": [
        "answer = input(\"Is Rose holding a lightsaber ? : \")\n",
        "\n",
        "if answer==\"Yes\":\n",
        "  print(\"Yes\")\n",
        "else:\n",
        "  print(\"No\")"
      ],
      "metadata": {
        "colab": {
          "base_uri": "https://localhost:8080/"
        },
        "id": "p6aoAaOx8SJx",
        "outputId": "b97c93a8-f4d1-442c-a8a1-36820aee6032"
      },
      "execution_count": null,
      "outputs": [
        {
          "output_type": "stream",
          "name": "stdout",
          "text": [
            "Is Rose holding a lightsaber ? : Yes\n",
            "Yes\n"
          ]
        }
      ]
    },
    {
      "cell_type": "markdown",
      "source": [
        "## Exercise 6.2 (Nested Loop)"
      ],
      "metadata": {
        "id": "xM1zRlcC9oGV"
      }
    },
    {
      "cell_type": "code",
      "source": [
        "ques1 = input(\"Is the charater holding a lightsaber ? : \")\n",
        "\n",
        "if ques1==\"Yes\":\n",
        "  ques2 = input(\"Is the lightsaber green? : \")\n",
        "  if ques2==\"Yes\":\n",
        "    print(\"The character is Yoda\")\n",
        "  else:\n",
        "    print(\"The character is not Yoda\")\n",
        "else:\n",
        "  print(\"The character is not Yoda\")\n"
      ],
      "metadata": {
        "colab": {
          "base_uri": "https://localhost:8080/"
        },
        "id": "U-iQtWsx9rOq",
        "outputId": "98e614aa-72fa-4ffe-e1bf-194151b58961"
      },
      "execution_count": null,
      "outputs": [
        {
          "output_type": "stream",
          "name": "stdout",
          "text": [
            "Is the charater holding a lightsaber ? : Yes\n",
            "Is the lightsaber green? : Yes\n",
            "The character is Yoda\n"
          ]
        }
      ]
    },
    {
      "cell_type": "markdown",
      "source": [
        "## Elif in loops"
      ],
      "metadata": {
        "id": "U49DajzfHIyg"
      }
    },
    {
      "cell_type": "code",
      "source": [
        "army_size = input(\"How many soldiers are in the army? (100,200,300) ? : \")\n",
        "\n",
        "if army_size == \"100\":\n",
        "  print(\"The army of 100 will beat army of 200 & 300\")\n",
        "elif army_size == \"200\":\n",
        "  print(\"The army of 200 will beat army of 100 but will lose to 300\")\n",
        "elif army_size == \"300\":\n",
        "  print(\"The army of 300 will beat everone\")\n",
        "else:\n",
        "  print(\"Please enter only 100,200 or 300\")"
      ],
      "metadata": {
        "colab": {
          "base_uri": "https://localhost:8080/"
        },
        "id": "ZXnnERPrHNhU",
        "outputId": "dfcbf18a-122e-4e9a-f919-e14f48004f9c"
      },
      "execution_count": null,
      "outputs": [
        {
          "output_type": "stream",
          "name": "stdout",
          "text": [
            "How many soldiers are in the army? (100,200,300) ? : 100\n",
            "The army of 100 will beat army of 200 & 300\n"
          ]
        }
      ]
    },
    {
      "cell_type": "markdown",
      "source": [
        "## Exercise 6.3 (Part 1 & 2)"
      ],
      "metadata": {
        "id": "-hfpqJuDJYaJ"
      }
    },
    {
      "cell_type": "code",
      "source": [
        "team = input(\"Enter team number : \")\n",
        "\n",
        "if team==\"1\":\n",
        "  print(\"You picked team 1, which has 1 character, which is Yoda\")\n",
        "elif team==\"2\":\n",
        "  print(\"You picked team 2, which has 2 characters, Jack & Rose\")\n",
        "elif team==\"3\":\n",
        "  print(\"You picked team 3, which has 2 characters, Vader & Leah\")\n",
        "\n",
        "\n",
        "if(team==\"1\"):\n",
        "  print(\"The number of people on the team you selected is odd.\")\n",
        "elif(team==\"2\" or team==\"3\"):\n",
        "  print(\"The number of people on the team you selected is even.\")"
      ],
      "metadata": {
        "colab": {
          "base_uri": "https://localhost:8080/"
        },
        "id": "NuZ4R6BJJaUW",
        "outputId": "b1493adb-5ee1-4389-e47c-783805c8b812"
      },
      "execution_count": null,
      "outputs": [
        {
          "output_type": "stream",
          "name": "stdout",
          "text": [
            "Enter team number : 2\n",
            "You picked team 2, which has 2 characters, Jack & Rose\n",
            "The number of people on the team you selected is even.\n"
          ]
        }
      ]
    },
    {
      "cell_type": "markdown",
      "source": [
        "##Match and Case"
      ],
      "metadata": {
        "id": "uiBsc3FEN42d"
      }
    },
    {
      "cell_type": "code",
      "source": [
        "good_or_not_good = input(\"Type good or not good : \")\n",
        "\n",
        "match good_or_not_good:\n",
        "  case \"good\":\n",
        "    print(\"Good\")\n",
        "  case \"not good\":\n",
        "    print(\"not good\")"
      ],
      "metadata": {
        "colab": {
          "base_uri": "https://localhost:8080/"
        },
        "id": "TGFjjElyN8OO",
        "outputId": "c58c842d-16f5-4f94-eb54-b81bfae46423"
      },
      "execution_count": null,
      "outputs": [
        {
          "output_type": "stream",
          "name": "stdout",
          "text": [
            "Type good or not good : good\n",
            "Good\n"
          ]
        }
      ]
    },
    {
      "cell_type": "markdown",
      "source": [
        "## Exercise 6.4"
      ],
      "metadata": {
        "id": "FM2oPrYgPM4F"
      }
    },
    {
      "cell_type": "code",
      "source": [
        "team = input(\"Enter team number(1,2,3) : \")\n",
        "\n",
        "match team:\n",
        "  case \"1\":\n",
        "    print(\"You selected Team 1\")\n",
        "  case \"2\":\n",
        "    print(\"You selected Team 2\")\n",
        "  case \"3\":\n",
        "    print(\"You selected Team 3\")"
      ],
      "metadata": {
        "colab": {
          "base_uri": "https://localhost:8080/"
        },
        "id": "-dLytGCsPOpj",
        "outputId": "4e9c7779-a8bd-4e44-caff-802fa7c60994"
      },
      "execution_count": null,
      "outputs": [
        {
          "output_type": "stream",
          "name": "stdout",
          "text": [
            "Enter team number(1,2,3) : 2\n",
            "You selected Team 2\n"
          ]
        }
      ]
    },
    {
      "cell_type": "markdown",
      "source": [
        "##Formatting"
      ],
      "metadata": {
        "id": "G3oBTxB2QFIk"
      }
    },
    {
      "cell_type": "code",
      "source": [
        "name = input(\"What is your name? \\n\")\n"
      ],
      "metadata": {
        "colab": {
          "base_uri": "https://localhost:8080/"
        },
        "id": "qY_XY7ylQIoc",
        "outputId": "ead2269d-80e2-4388-9421-87f2d116d873"
      },
      "execution_count": null,
      "outputs": [
        {
          "name": "stdout",
          "output_type": "stream",
          "text": [
            "What is your name? \n",
            "Alex\n"
          ]
        }
      ]
    },
    {
      "cell_type": "code",
      "source": [
        "ticket = input(\"What class ticket do you want to buy? select 1 or 3\\n\")\n",
        "print(f\"You selected class number {ticket}\")\n",
        "\n",
        "if ticket ==\"1\":\n",
        "  price=1000\n",
        "else:\n",
        "  price=200\n",
        "\n",
        "print(f\"The price is {price:.2f} pounds\")\n"
      ],
      "metadata": {
        "colab": {
          "base_uri": "https://localhost:8080/"
        },
        "id": "Wi4mhs3tQieD",
        "outputId": "cf0d8bdf-9fad-411c-e964-00a292b0e2d2"
      },
      "execution_count": null,
      "outputs": [
        {
          "output_type": "stream",
          "name": "stdout",
          "text": [
            "What class ticket do you want to buy? select 1 or 3\n",
            "1\n",
            "You selected class number 1\n",
            "The price is 1000.00 pounds\n"
          ]
        }
      ]
    },
    {
      "cell_type": "markdown",
      "source": [
        "## Exercise 6.5"
      ],
      "metadata": {
        "id": "nmMZFF5dRkE1"
      }
    },
    {
      "cell_type": "code",
      "source": [
        "first = float(input(\"How many first class tickets you want to purchase? : \"))\n",
        "second = float(input(\"How many 2nd class tickets you want to purchase? : \"))\n",
        "third = float(input(\"How many 3rd class tickets you want to purchase? : \"))\n",
        "\n",
        "total_price = (first*870)+(second*100.42)+(third*7)\n",
        "\n",
        "print(f\"Total price is {total_price:.2f}\")\n"
      ],
      "metadata": {
        "colab": {
          "base_uri": "https://localhost:8080/"
        },
        "id": "1mGmABALRld3",
        "outputId": "cdca6ba4-ebc8-49d3-b88f-b8f1b2260215"
      },
      "execution_count": null,
      "outputs": [
        {
          "output_type": "stream",
          "name": "stdout",
          "text": [
            "How many first class tickets you want to purchase? : 1\n",
            "How many 2nd class tickets you want to purchase? : 1\n",
            "How many 3rd class tickets you want to purchase? : 1\n",
            "Total price is 977.42\n"
          ]
        }
      ]
    },
    {
      "cell_type": "markdown",
      "source": [
        "##Slicing"
      ],
      "metadata": {
        "id": "-qTcN3BOTYtw"
      }
    },
    {
      "cell_type": "code",
      "source": [
        "full_name = \"James Bond\"\n",
        "first_name = full_name[0:5]\n",
        "last_name = full_name[6:10]\n",
        "print(f\"The name is {first_name} {last_name}\")"
      ],
      "metadata": {
        "colab": {
          "base_uri": "https://localhost:8080/"
        },
        "id": "Hwxfig_RTacI",
        "outputId": "9dce279d-194f-41d8-ed7a-a35b9e32d712"
      },
      "execution_count": null,
      "outputs": [
        {
          "output_type": "stream",
          "name": "stdout",
          "text": [
            "The name is James Bond\n"
          ]
        }
      ]
    },
    {
      "cell_type": "markdown",
      "source": [
        "##Exercise 6.6"
      ],
      "metadata": {
        "id": "d4Sq1zyUUhxB"
      }
    },
    {
      "cell_type": "code",
      "source": [
        "name = \"Titanic\"\n",
        "\n",
        "print(name[6])\n",
        "print(name[6:])\n",
        "print(name[-1])\n"
      ],
      "metadata": {
        "colab": {
          "base_uri": "https://localhost:8080/"
        },
        "id": "7F5gvvgTUkcr",
        "outputId": "f4aeafec-d2a5-4014-cf83-55e801154b78"
      },
      "execution_count": null,
      "outputs": [
        {
          "output_type": "stream",
          "name": "stdout",
          "text": [
            "c\n",
            "c\n",
            "c\n"
          ]
        }
      ]
    },
    {
      "cell_type": "markdown",
      "source": [
        "##Exercise 6.7 For Loop"
      ],
      "metadata": {
        "id": "7Nsnfhr6ZuHc"
      }
    },
    {
      "cell_type": "code",
      "source": [
        "child = [\"Leia\", \"Luka\"]\n",
        "\n",
        "for l in child:\n",
        "  print(f\"{l} am your father\")"
      ],
      "metadata": {
        "colab": {
          "base_uri": "https://localhost:8080/"
        },
        "id": "y_pIpn76ZvaH",
        "outputId": "1ba2818d-35e2-43d0-b398-a792a84d8046"
      },
      "execution_count": 37,
      "outputs": [
        {
          "output_type": "stream",
          "name": "stdout",
          "text": [
            "Leia am your father\n",
            "Luka am your father\n"
          ]
        }
      ]
    },
    {
      "cell_type": "markdown",
      "source": [
        "## Exercise 6.8 While Loop"
      ],
      "metadata": {
        "id": "8skaKAF3ahe3"
      }
    },
    {
      "cell_type": "code",
      "source": [
        "titanic = 1912;\n",
        "\n",
        "while titanic<=1984:\n",
        "  print(f\"The year is {titanic} and nobody has found the Titanic yet\")\n",
        "  titanic+=1\n"
      ],
      "metadata": {
        "colab": {
          "base_uri": "https://localhost:8080/"
        },
        "id": "OSBoEmohaigT",
        "outputId": "8d6ff2e3-a25a-4568-d902-b686121a7313"
      },
      "execution_count": 39,
      "outputs": [
        {
          "output_type": "stream",
          "name": "stdout",
          "text": [
            "The year is 1912 and nobody has found the Titanic yet\n",
            "The year is 1913 and nobody has found the Titanic yet\n",
            "The year is 1914 and nobody has found the Titanic yet\n",
            "The year is 1915 and nobody has found the Titanic yet\n",
            "The year is 1916 and nobody has found the Titanic yet\n",
            "The year is 1917 and nobody has found the Titanic yet\n",
            "The year is 1918 and nobody has found the Titanic yet\n",
            "The year is 1919 and nobody has found the Titanic yet\n",
            "The year is 1920 and nobody has found the Titanic yet\n",
            "The year is 1921 and nobody has found the Titanic yet\n",
            "The year is 1922 and nobody has found the Titanic yet\n",
            "The year is 1923 and nobody has found the Titanic yet\n",
            "The year is 1924 and nobody has found the Titanic yet\n",
            "The year is 1925 and nobody has found the Titanic yet\n",
            "The year is 1926 and nobody has found the Titanic yet\n",
            "The year is 1927 and nobody has found the Titanic yet\n",
            "The year is 1928 and nobody has found the Titanic yet\n",
            "The year is 1929 and nobody has found the Titanic yet\n",
            "The year is 1930 and nobody has found the Titanic yet\n",
            "The year is 1931 and nobody has found the Titanic yet\n",
            "The year is 1932 and nobody has found the Titanic yet\n",
            "The year is 1933 and nobody has found the Titanic yet\n",
            "The year is 1934 and nobody has found the Titanic yet\n",
            "The year is 1935 and nobody has found the Titanic yet\n",
            "The year is 1936 and nobody has found the Titanic yet\n",
            "The year is 1937 and nobody has found the Titanic yet\n",
            "The year is 1938 and nobody has found the Titanic yet\n",
            "The year is 1939 and nobody has found the Titanic yet\n",
            "The year is 1940 and nobody has found the Titanic yet\n",
            "The year is 1941 and nobody has found the Titanic yet\n",
            "The year is 1942 and nobody has found the Titanic yet\n",
            "The year is 1943 and nobody has found the Titanic yet\n",
            "The year is 1944 and nobody has found the Titanic yet\n",
            "The year is 1945 and nobody has found the Titanic yet\n",
            "The year is 1946 and nobody has found the Titanic yet\n",
            "The year is 1947 and nobody has found the Titanic yet\n",
            "The year is 1948 and nobody has found the Titanic yet\n",
            "The year is 1949 and nobody has found the Titanic yet\n",
            "The year is 1950 and nobody has found the Titanic yet\n",
            "The year is 1951 and nobody has found the Titanic yet\n",
            "The year is 1952 and nobody has found the Titanic yet\n",
            "The year is 1953 and nobody has found the Titanic yet\n",
            "The year is 1954 and nobody has found the Titanic yet\n",
            "The year is 1955 and nobody has found the Titanic yet\n",
            "The year is 1956 and nobody has found the Titanic yet\n",
            "The year is 1957 and nobody has found the Titanic yet\n",
            "The year is 1958 and nobody has found the Titanic yet\n",
            "The year is 1959 and nobody has found the Titanic yet\n",
            "The year is 1960 and nobody has found the Titanic yet\n",
            "The year is 1961 and nobody has found the Titanic yet\n",
            "The year is 1962 and nobody has found the Titanic yet\n",
            "The year is 1963 and nobody has found the Titanic yet\n",
            "The year is 1964 and nobody has found the Titanic yet\n",
            "The year is 1965 and nobody has found the Titanic yet\n",
            "The year is 1966 and nobody has found the Titanic yet\n",
            "The year is 1967 and nobody has found the Titanic yet\n",
            "The year is 1968 and nobody has found the Titanic yet\n",
            "The year is 1969 and nobody has found the Titanic yet\n",
            "The year is 1970 and nobody has found the Titanic yet\n",
            "The year is 1971 and nobody has found the Titanic yet\n",
            "The year is 1972 and nobody has found the Titanic yet\n",
            "The year is 1973 and nobody has found the Titanic yet\n",
            "The year is 1974 and nobody has found the Titanic yet\n",
            "The year is 1975 and nobody has found the Titanic yet\n",
            "The year is 1976 and nobody has found the Titanic yet\n",
            "The year is 1977 and nobody has found the Titanic yet\n",
            "The year is 1978 and nobody has found the Titanic yet\n",
            "The year is 1979 and nobody has found the Titanic yet\n",
            "The year is 1980 and nobody has found the Titanic yet\n",
            "The year is 1981 and nobody has found the Titanic yet\n",
            "The year is 1982 and nobody has found the Titanic yet\n",
            "The year is 1983 and nobody has found the Titanic yet\n",
            "The year is 1984 and nobody has found the Titanic yet\n"
          ]
        }
      ]
    },
    {
      "cell_type": "markdown",
      "source": [
        "##Exercise 6 final exercise"
      ],
      "metadata": {
        "id": "2ecGKqoCbV7K"
      }
    },
    {
      "cell_type": "code",
      "source": [
        "tasks=[\"Planning\",\"Design\",\"Coding\",\"Testing\"]\n",
        "time_spent=[0,0,0,0]\n",
        "\n",
        "def log_time(task_name,time):\n",
        "  if task_name==\"Planning\":\n",
        "    time_spent[0]+=time\n",
        "  elif task_name==\"Design\":\n",
        "    time_spent[1]+=time\n",
        "  elif task_name==\"Coding\":\n",
        "    time_spent[2]+=time\n",
        "  elif task_name==\"Testing\":\n",
        "    time_spent[3]+=time\n",
        "\n",
        "\n",
        "flag = True;\n",
        "\n",
        "while flag==True:\n",
        "  task = input(\"Enter task name(Planning,Design,Coding,Testing) or type Exit : \")\n",
        "  if task==\"Exit\":\n",
        "    break\n",
        "  elif task==\"Planning\" or task==\"Design\" or task==\"Coding\" or task==\"Testing\":\n",
        "    time = float(input(\"Enter time spent on this task : \"))\n",
        "    log_time(task,time)\n",
        "  else:\n",
        "    print(\"Invalid Input , please try again\")\n",
        "\n",
        "\n",
        "for i in range(len(tasks)):\n",
        "  print(f\"{tasks[i]} : {time_spent[i]} hours\")\n",
        "\n"
      ],
      "metadata": {
        "colab": {
          "base_uri": "https://localhost:8080/"
        },
        "id": "0pZrHq71bfRu",
        "outputId": "b86458cf-9c0b-46d3-acdc-454c92e3a78b"
      },
      "execution_count": 59,
      "outputs": [
        {
          "output_type": "stream",
          "name": "stdout",
          "text": [
            "Enter task name(Planning,Design,Coding,Testing) or type Exit : Planning\n",
            "Enter time spent on this task : 4\n",
            "Enter task name(Planning,Design,Coding,Testing) or type Exit : Planning\n",
            "Enter time spent on this task : 3\n",
            "Enter task name(Planning,Design,Coding,Testing) or type Exit : Design\n",
            "Enter time spent on this task : 3\n",
            "Enter task name(Planning,Design,Coding,Testing) or type Exit : Design\n",
            "Enter time spent on this task : 5\n",
            "Enter task name(Planning,Design,Coding,Testing) or type Exit : Coding\n",
            "Enter time spent on this task : 6\n",
            "Enter task name(Planning,Design,Coding,Testing) or type Exit : Coding\n",
            "Enter time spent on this task : 8\n",
            "Enter task name(Planning,Design,Coding,Testing) or type Exit : Testing\n",
            "Enter time spent on this task : 2\n",
            "Enter task name(Planning,Design,Coding,Testing) or type Exit : Testing\n",
            "Enter time spent on this task : 3\n",
            "Enter task name(Planning,Design,Coding,Testing) or type Exit : Support\n",
            "Invalid Input , please try again\n",
            "Enter task name(Planning,Design,Coding,Testing) or type Exit : Exit\n",
            "Planning : 7.0 hours\n",
            "Design : 8.0 hours\n",
            "Coding : 14.0 hours\n",
            "Testing : 5.0 hours\n"
          ]
        }
      ]
    }
  ]
}