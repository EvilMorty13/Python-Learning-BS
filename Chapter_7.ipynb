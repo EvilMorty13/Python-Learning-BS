{
  "nbformat": 4,
  "nbformat_minor": 0,
  "metadata": {
    "colab": {
      "provenance": [],
      "authorship_tag": "ABX9TyNHz8Gj5s6CwFSHpCoXTjKb",
      "include_colab_link": true
    },
    "kernelspec": {
      "name": "python3",
      "display_name": "Python 3"
    },
    "language_info": {
      "name": "python"
    }
  },
  "cells": [
    {
      "cell_type": "markdown",
      "metadata": {
        "id": "view-in-github",
        "colab_type": "text"
      },
      "source": [
        "<a href=\"https://colab.research.google.com/github/EvilMorty13/Python-Learning-BS/blob/main/Chapter_7.ipynb\" target=\"_parent\"><img src=\"https://colab.research.google.com/assets/colab-badge.svg\" alt=\"Open In Colab\"/></a>"
      ]
    },
    {
      "cell_type": "markdown",
      "source": [
        "## List Vs Tuple"
      ],
      "metadata": {
        "id": "JxdtozxYw_m3"
      }
    },
    {
      "cell_type": "code",
      "source": [
        "list1 = [1,2,3,4]\n",
        "\n",
        "print(list1[3])\n",
        "\n",
        "list1[3] = 10\n",
        "\n",
        "print(list1)\n",
        "# List is mutable\n",
        "\n",
        "tuple1 = (1,2,3,4)\n",
        "\n",
        "print(tuple1[3])\n",
        "\n",
        "tuple1[3] = 10\n",
        "\n",
        "print(tuple1)\n",
        "\n",
        "# Tuple is immutable"
      ],
      "metadata": {
        "colab": {
          "base_uri": "https://localhost:8080/",
          "height": 263
        },
        "id": "QVTm0JpSxCFm",
        "outputId": "3c557318-bb56-468b-fa1b-c4cd7df3bd7c"
      },
      "execution_count": 2,
      "outputs": [
        {
          "output_type": "stream",
          "name": "stdout",
          "text": [
            "4\n",
            "[1, 2, 3, 10]\n",
            "4\n"
          ]
        },
        {
          "output_type": "error",
          "ename": "TypeError",
          "evalue": "'tuple' object does not support item assignment",
          "traceback": [
            "\u001b[0;31m---------------------------------------------------------------------------\u001b[0m",
            "\u001b[0;31mTypeError\u001b[0m                                 Traceback (most recent call last)",
            "\u001b[0;32m<ipython-input-2-d9b7fba7cd31>\u001b[0m in \u001b[0;36m<cell line: 14>\u001b[0;34m()\u001b[0m\n\u001b[1;32m     12\u001b[0m \u001b[0mprint\u001b[0m\u001b[0;34m(\u001b[0m\u001b[0mtuple1\u001b[0m\u001b[0;34m[\u001b[0m\u001b[0;36m3\u001b[0m\u001b[0;34m]\u001b[0m\u001b[0;34m)\u001b[0m\u001b[0;34m\u001b[0m\u001b[0;34m\u001b[0m\u001b[0m\n\u001b[1;32m     13\u001b[0m \u001b[0;34m\u001b[0m\u001b[0m\n\u001b[0;32m---> 14\u001b[0;31m \u001b[0mtuple1\u001b[0m\u001b[0;34m[\u001b[0m\u001b[0;36m3\u001b[0m\u001b[0;34m]\u001b[0m \u001b[0;34m=\u001b[0m \u001b[0;36m10\u001b[0m\u001b[0;34m\u001b[0m\u001b[0;34m\u001b[0m\u001b[0m\n\u001b[0m\u001b[1;32m     15\u001b[0m \u001b[0;34m\u001b[0m\u001b[0m\n\u001b[1;32m     16\u001b[0m \u001b[0mprint\u001b[0m\u001b[0;34m(\u001b[0m\u001b[0mtuple1\u001b[0m\u001b[0;34m)\u001b[0m\u001b[0;34m\u001b[0m\u001b[0;34m\u001b[0m\u001b[0m\n",
            "\u001b[0;31mTypeError\u001b[0m: 'tuple' object does not support item assignment"
          ]
        }
      ]
    },
    {
      "cell_type": "markdown",
      "source": [
        "## Exercise 7.1 Tuples"
      ],
      "metadata": {
        "id": "zL6OEESUySE2"
      }
    },
    {
      "cell_type": "code",
      "source": [
        "starting_tuple = (\"Yoda\",\" Han Solo\",\"R2D2\",\"C3P0\")\n",
        "\n",
        "list1 = list(starting_tuple)\n",
        "\n",
        "list1.append(\"Darth Vader\")\n",
        "\n",
        "ending_tuple = tuple(list1)\n",
        "\n",
        "print(ending_tuple)\n"
      ],
      "metadata": {
        "colab": {
          "base_uri": "https://localhost:8080/"
        },
        "id": "mQH5PNn9yThu",
        "outputId": "e6ed03cf-5267-4a1a-ecf1-cfb6288b63ae"
      },
      "execution_count": 6,
      "outputs": [
        {
          "output_type": "stream",
          "name": "stdout",
          "text": [
            "('Yoda', ' Han Solo', 'R2D2', 'C3P0', 'Darth Vader')\n"
          ]
        }
      ]
    },
    {
      "cell_type": "markdown",
      "source": [
        "## Dictionaries"
      ],
      "metadata": {
        "id": "AJ12fngNzbGL"
      }
    },
    {
      "cell_type": "code",
      "source": [
        "user = {\"name\":\"Luka\",\"email\":\"luka@gmail.com\",\"number\":12343254,\n",
        "        \"address\":{\"st_name\":\"Groove St\",\"City\":\"New York\",\"State\":\"Alaska\"}}\n",
        "\n",
        "print(user)\n",
        "\n",
        "user[\"job\"]=\"Hr\"\n",
        "\n",
        "print(user)\n",
        "\n",
        "user.get(\"name\")\n",
        "\n",
        "\n",
        "\n",
        "for key in user.keys():\n",
        "  print(key,user[key])\n",
        "\n"
      ],
      "metadata": {
        "colab": {
          "base_uri": "https://localhost:8080/"
        },
        "id": "uGUfY_Xvzc_H",
        "outputId": "aed664d2-39e8-4cad-d42a-ff999d35be38"
      },
      "execution_count": 17,
      "outputs": [
        {
          "output_type": "stream",
          "name": "stdout",
          "text": [
            "{'name': 'Luka', 'email': 'luka@gmail.com', 'number': 12343254, 'address': {'st_name': 'Groove St', 'City': 'New York', 'State': 'Alaska'}}\n",
            "{'name': 'Luka', 'email': 'luka@gmail.com', 'number': 12343254, 'address': {'st_name': 'Groove St', 'City': 'New York', 'State': 'Alaska'}, 'job': 'Hr'}\n",
            "name Luka\n",
            "email luka@gmail.com\n",
            "number 12343254\n",
            "address {'st_name': 'Groove St', 'City': 'New York', 'State': 'Alaska'}\n",
            "job Hr\n"
          ]
        }
      ]
    },
    {
      "cell_type": "markdown",
      "source": [
        "##Exercise 7.2 Dictionaries"
      ],
      "metadata": {
        "id": "JaMUoQXI2e6u"
      }
    },
    {
      "cell_type": "code",
      "source": [
        "allegiances = {\"Luke Skywalker\":\"Rebel Alliance\",\"Darth Vader\":\"Galatic Empire\",\"Obi wan Kenobi\":\"Jedi Order\"}\n",
        "\n",
        "print(allegiances[\"Darth Vader\"])\n",
        "\n",
        "allegiances[\"Darth Vader\"]= \"Sith Order\"\n",
        "\n",
        "allegiances[\"Leia\"] = \"Rebel Alliance\"\n",
        "\n",
        "for key,value in allegiances.items():\n",
        "  print(key,value)"
      ],
      "metadata": {
        "colab": {
          "base_uri": "https://localhost:8080/"
        },
        "id": "i3EZL91J2gXT",
        "outputId": "ab693448-5c0f-4c4b-ff58-950c4ebe7376"
      },
      "execution_count": 18,
      "outputs": [
        {
          "output_type": "stream",
          "name": "stdout",
          "text": [
            "Galatic Empire\n",
            "Luke Skywalker Rebel Alliance\n",
            "Darth Vader Sith Order\n",
            "Obi wan Kenobi Jedi Order\n",
            "Leia Rebel Alliance\n"
          ]
        }
      ]
    },
    {
      "cell_type": "markdown",
      "source": [
        "## Set"
      ],
      "metadata": {
        "id": "sPfrf3Em4E6Q"
      }
    },
    {
      "cell_type": "code",
      "source": [
        "list1 = [1,2,3,3,1,2]\n",
        "list2={1,2,3,10,20,30}\n",
        "set1 = set(list1)\n",
        "\n",
        "print(set1)\n",
        "\n",
        "# Set doesn't contain duplicates\n",
        "\n",
        "set1.add(4)\n",
        "print(set1)\n",
        "\n",
        "print(set1.difference(list2))\n",
        "print(set1.intersection(list2))\n",
        "print(set1.union(list2))"
      ],
      "metadata": {
        "colab": {
          "base_uri": "https://localhost:8080/"
        },
        "id": "K8gdTSZm4HSh",
        "outputId": "26f6e773-bd60-4a04-9782-f78814346768"
      },
      "execution_count": 25,
      "outputs": [
        {
          "output_type": "stream",
          "name": "stdout",
          "text": [
            "{1, 2, 3}\n",
            "{1, 2, 3, 4}\n",
            "{4}\n",
            "{1, 2, 3}\n",
            "{1, 2, 3, 4, 10, 20, 30}\n"
          ]
        }
      ]
    },
    {
      "cell_type": "markdown",
      "source": [
        "## Exercise 7.3 Sets"
      ],
      "metadata": {
        "id": "Jvbyx3QU5m7W"
      }
    },
    {
      "cell_type": "code",
      "source": [
        "storm_troopers_group1 =[\"trooper_1\",\"trooper_2\",\"trooper_3\",\"trooper_4\"]\n",
        "storm_troopers_group2 =[\"trooper_5\",\"trooper_2\",\"trooper_34\",\"trooper_46\"]\n",
        "\n",
        "storm_troopers_group1_set = set(storm_troopers_group1)\n",
        "storm_troopers_group2_set = set(storm_troopers_group2)\n",
        "\n",
        "storm_troopers_multiples = storm_troopers_group1_set.intersection(storm_troopers_group2_set)\n",
        "\n",
        "print(storm_troopers_multiples)"
      ],
      "metadata": {
        "colab": {
          "base_uri": "https://localhost:8080/"
        },
        "id": "1qW-8Rnm5oIp",
        "outputId": "10753138-a012-4f6a-bb71-7db30a8f55f2"
      },
      "execution_count": 26,
      "outputs": [
        {
          "output_type": "stream",
          "name": "stdout",
          "text": [
            "{'trooper_2'}\n"
          ]
        }
      ]
    },
    {
      "cell_type": "markdown",
      "source": [
        "##Level 7 Final Exercise Restaurant Menu Manager"
      ],
      "metadata": {
        "id": "V14nG6U66wED"
      }
    },
    {
      "cell_type": "code",
      "source": [
        "menu = {\"Burger\":(\"Main\",10.5),\"Soup\":(\"Appetizer\",5.0),\"Ice Cream\":(\"Dessert\",3.0),\"Salad\":(\"Appetizer\",2.0)}\n",
        "\n",
        "menu[\"Stake\"] = (\"Main\",15.0)\n",
        "menu[\"Soda\"] = (\"Drinks\",1.0)\n",
        "\n",
        "print(menu)\n",
        "print()\n",
        "menu.pop(\"Soda\")\n",
        "print(menu)\n",
        "print()\n",
        "\n",
        "def display_menu(menu):\n",
        "  for key,value in menu.items():\n",
        "    print(\"Dish name :\",key,\", Dish Type : \",value[0], \", Price : \",value[1])\n",
        "\n",
        "def count_dish_types(menu):\n",
        "  dish_count={}\n",
        "  for key,value in menu.items():\n",
        "    if value[0] in dish_count:\n",
        "      dish_count[value[0]]+=1\n",
        "    else:\n",
        "      dish_count[value[0]]=0\n",
        "\n",
        "  for key,value in dish_count.items():\n",
        "    print(\"Dish Type : \",key,\" , Dish Number : \",value)\n",
        "\n",
        "\n",
        "\n",
        "\n",
        "def update_price(menu,dish_name,new_price):\n",
        "  if dish_name in menu:\n",
        "    menu[dish_name]= (menu[dish_name][0],new_price)\n",
        "  else:\n",
        "    print(\"Dish doesn't exist\")\n",
        "\n",
        "display_menu(menu)\n",
        "print()\n",
        "count_dish_types(menu)\n",
        "print()\n",
        "update_price(menu,\"Burger\",50)\n",
        "display_menu(menu)"
      ],
      "metadata": {
        "colab": {
          "base_uri": "https://localhost:8080/"
        },
        "id": "tt_7YCPS6zQs",
        "outputId": "2ed1175b-f5b2-47d6-fc6b-5c94c5270947"
      },
      "execution_count": 48,
      "outputs": [
        {
          "output_type": "stream",
          "name": "stdout",
          "text": [
            "{'Burger': ('Main', 10.5), 'Soup': ('Appetizer', 5.0), 'Ice Cream': ('Dessert', 3.0), 'Salad': ('Appetizer', 2.0), 'Stake': ('Main', 15.0), 'Soda': ('Drinks', 1.0)}\n",
            "\n",
            "{'Burger': ('Main', 10.5), 'Soup': ('Appetizer', 5.0), 'Ice Cream': ('Dessert', 3.0), 'Salad': ('Appetizer', 2.0), 'Stake': ('Main', 15.0)}\n",
            "\n",
            "Dish name : Burger , Dish Type :  Main , Price :  10.5\n",
            "Dish name : Soup , Dish Type :  Appetizer , Price :  5.0\n",
            "Dish name : Ice Cream , Dish Type :  Dessert , Price :  3.0\n",
            "Dish name : Salad , Dish Type :  Appetizer , Price :  2.0\n",
            "Dish name : Stake , Dish Type :  Main , Price :  15.0\n",
            "\n",
            "Dish Type :  Main  , Dish Number :  1\n",
            "Dish Type :  Appetizer  , Dish Number :  1\n",
            "Dish Type :  Dessert  , Dish Number :  0\n",
            "\n",
            "Dish name : Burger , Dish Type :  Main , Price :  50\n",
            "Dish name : Soup , Dish Type :  Appetizer , Price :  5.0\n",
            "Dish name : Ice Cream , Dish Type :  Dessert , Price :  3.0\n",
            "Dish name : Salad , Dish Type :  Appetizer , Price :  2.0\n",
            "Dish name : Stake , Dish Type :  Main , Price :  15.0\n"
          ]
        }
      ]
    }
  ]
}