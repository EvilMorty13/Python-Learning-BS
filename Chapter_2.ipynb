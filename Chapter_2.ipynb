{
  "nbformat": 4,
  "nbformat_minor": 0,
  "metadata": {
    "colab": {
      "provenance": [],
      "authorship_tag": "ABX9TyMnCPtH/o82huSAlDyuRfSf",
      "include_colab_link": true
    },
    "kernelspec": {
      "name": "python3",
      "display_name": "Python 3"
    },
    "language_info": {
      "name": "python"
    }
  },
  "cells": [
    {
      "cell_type": "markdown",
      "metadata": {
        "id": "view-in-github",
        "colab_type": "text"
      },
      "source": [
        "<a href=\"https://colab.research.google.com/github/EvilMorty13/Python-Learning-BS/blob/main/Chapter_2.ipynb\" target=\"_parent\"><img src=\"https://colab.research.google.com/assets/colab-badge.svg\" alt=\"Open In Colab\"/></a>"
      ]
    },
    {
      "cell_type": "code",
      "execution_count": 4,
      "metadata": {
        "colab": {
          "base_uri": "https://localhost:8080/"
        },
        "id": "a2uMRgjAphbI",
        "outputId": "dd5d6619-1543-4128-9709-516454b19c2b"
      },
      "outputs": [
        {
          "output_type": "stream",
          "name": "stdout",
          "text": [
            "Mr. Skywalker\n",
            "44\n"
          ]
        },
        {
          "output_type": "execute_result",
          "data": {
            "text/plain": [
              "str"
            ]
          },
          "metadata": {},
          "execution_count": 4
        }
      ],
      "source": [
        "name = \"Mr. Skywalker\"\n",
        "age = 44\n",
        "print(name)\n",
        "print(age)\n",
        "type(name)"
      ]
    },
    {
      "cell_type": "code",
      "source": [
        "#Exercise 2.1\n",
        "\n",
        "name = str(\"Darth Vader\")\n",
        "print(name)\n",
        "age = int(19)\n",
        "print(age)"
      ],
      "metadata": {
        "colab": {
          "base_uri": "https://localhost:8080/"
        },
        "id": "76A6FRKbrqzK",
        "outputId": "ece7e257-1680-4d8a-ff45-6610819f6c43"
      },
      "execution_count": 5,
      "outputs": [
        {
          "output_type": "stream",
          "name": "stdout",
          "text": [
            "Darth Vader\n",
            "19\n"
          ]
        }
      ]
    },
    {
      "cell_type": "code",
      "source": [
        "pi = 3.14\n",
        "print(pi)\n",
        "type(pi)"
      ],
      "metadata": {
        "colab": {
          "base_uri": "https://localhost:8080/"
        },
        "id": "bFPgsvykulXc",
        "outputId": "3cec8f56-d4cb-42c2-da04-30bc571a4034"
      },
      "execution_count": 6,
      "outputs": [
        {
          "output_type": "stream",
          "name": "stdout",
          "text": [
            "3.14\n"
          ]
        },
        {
          "output_type": "execute_result",
          "data": {
            "text/plain": [
              "float"
            ]
          },
          "metadata": {},
          "execution_count": 6
        }
      ]
    },
    {
      "cell_type": "code",
      "source": [
        "bool_example = True\n",
        "print(bool_example)\n",
        "type(bool_example)\n"
      ],
      "metadata": {
        "colab": {
          "base_uri": "https://localhost:8080/"
        },
        "id": "gHAEyK7Quzd4",
        "outputId": "fbc5c05b-a116-441e-e65e-e60e42c34431"
      },
      "execution_count": 7,
      "outputs": [
        {
          "output_type": "stream",
          "name": "stdout",
          "text": [
            "True\n"
          ]
        },
        {
          "output_type": "execute_result",
          "data": {
            "text/plain": [
              "bool"
            ]
          },
          "metadata": {},
          "execution_count": 7
        }
      ]
    },
    {
      "cell_type": "code",
      "source": [
        "#Exercise 2.2\n",
        "\n",
        "i_cannot_do_it = False\n",
        "\n",
        "print(i_cannot_do_it)\n",
        "\n",
        "the_answer = 42.01\n",
        "print(the_answer)"
      ],
      "metadata": {
        "colab": {
          "base_uri": "https://localhost:8080/"
        },
        "id": "kYyiChvpvJpW",
        "outputId": "12fbd855-b3d2-405a-9318-a32987ab0cf0"
      },
      "execution_count": 8,
      "outputs": [
        {
          "output_type": "stream",
          "name": "stdout",
          "text": [
            "False\n",
            "42.01\n"
          ]
        }
      ]
    },
    {
      "cell_type": "code",
      "source": [
        "name = \"Darth Vader\"\n",
        "print(name)\n",
        "\n",
        "name = str(\"Mr.Skywaler\")\n",
        "print(name)\n"
      ],
      "metadata": {
        "colab": {
          "base_uri": "https://localhost:8080/"
        },
        "id": "EjWpXUC9v1WO",
        "outputId": "c8aafe44-d162-406d-a491-bb93cd7469a0"
      },
      "execution_count": 10,
      "outputs": [
        {
          "output_type": "stream",
          "name": "stdout",
          "text": [
            "Darth Vader\n",
            "Mr.Skywaler\n"
          ]
        }
      ]
    },
    {
      "cell_type": "code",
      "source": [
        "age = int(\"100\")\n",
        "type(age)"
      ],
      "metadata": {
        "colab": {
          "base_uri": "https://localhost:8080/"
        },
        "id": "mJchk8-ywc1q",
        "outputId": "a5634885-65f9-4e67-d34d-5cbcd4d2026a"
      },
      "execution_count": 12,
      "outputs": [
        {
          "output_type": "execute_result",
          "data": {
            "text/plain": [
              "int"
            ]
          },
          "metadata": {},
          "execution_count": 12
        }
      ]
    },
    {
      "cell_type": "code",
      "source": [
        "print(int(3.44))"
      ],
      "metadata": {
        "colab": {
          "base_uri": "https://localhost:8080/"
        },
        "id": "byjs1WmSwxS-",
        "outputId": "dfa74cac-b435-4166-d3d1-fde016d524be"
      },
      "execution_count": 13,
      "outputs": [
        {
          "output_type": "stream",
          "name": "stdout",
          "text": [
            "3\n"
          ]
        }
      ]
    },
    {
      "cell_type": "code",
      "source": [
        "#Exercise 2.3\n",
        "\n",
        "height = str(\"1.09\")\n",
        "print(height)\n",
        "height = float(height)\n",
        "height = height+0.66\n",
        "print(height)"
      ],
      "metadata": {
        "colab": {
          "base_uri": "https://localhost:8080/"
        },
        "id": "ZEGZ7_Mfw7a6",
        "outputId": "a5c0427b-9e21-4fbc-b615-7c437e7bd1f1"
      },
      "execution_count": 15,
      "outputs": [
        {
          "output_type": "stream",
          "name": "stdout",
          "text": [
            "1.09\n",
            "1.75\n"
          ]
        }
      ]
    },
    {
      "cell_type": "code",
      "source": [
        "#Exercise 2 final\n",
        "\n",
        "usd_amount = 100\n",
        "exchange_rate = 0.85\n",
        "\n",
        "eur_amount = usd_amount*exchange_rate\n",
        "\n",
        "eur_amount = int(eur_amount)\n",
        "\n",
        "print(eur_amount)"
      ],
      "metadata": {
        "colab": {
          "base_uri": "https://localhost:8080/"
        },
        "id": "kc3DZS9txk4J",
        "outputId": "d3ff2b76-e531-41ca-bb30-50ca5f56437f"
      },
      "execution_count": 17,
      "outputs": [
        {
          "output_type": "stream",
          "name": "stdout",
          "text": [
            "85\n"
          ]
        }
      ]
    }
  ]
}