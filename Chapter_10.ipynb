{
  "nbformat": 4,
  "nbformat_minor": 0,
  "metadata": {
    "colab": {
      "provenance": [],
      "authorship_tag": "ABX9TyMoWZM5pUNmdRrF+ofHz51f",
      "include_colab_link": true
    },
    "kernelspec": {
      "name": "python3",
      "display_name": "Python 3"
    },
    "language_info": {
      "name": "python"
    }
  },
  "cells": [
    {
      "cell_type": "markdown",
      "metadata": {
        "id": "view-in-github",
        "colab_type": "text"
      },
      "source": [
        "<a href=\"https://colab.research.google.com/github/EvilMorty13/Python-Learning-BS/blob/main/Chapter_10.ipynb\" target=\"_parent\"><img src=\"https://colab.research.google.com/assets/colab-badge.svg\" alt=\"Open In Colab\"/></a>"
      ]
    },
    {
      "cell_type": "markdown",
      "source": [
        "## Numpy"
      ],
      "metadata": {
        "id": "-lcvdS1kSqT4"
      }
    },
    {
      "cell_type": "code",
      "source": [
        "import numpy as np\n",
        "\n",
        "a = [1,2,3,4,5]\n",
        "print(a)\n",
        "\n",
        "a_np = np.array([1,2,3,4,5])\n",
        "type(a_np)\n",
        "\n",
        "a_np = a_np + 1\n",
        "\n",
        "print(a_np)\n",
        "# Really fast\n",
        "\n",
        "\n",
        "array_2d = np.array([[1, 2, 3],\n",
        "                     [4, 5, 6],\n",
        "                     [7, 8, 9]])\n",
        "\n",
        "array_2d[0]=array_2d[0]+1;\n",
        "print(array_2d)\n",
        "\n",
        "array_2d.shape\n",
        "\n"
      ],
      "metadata": {
        "colab": {
          "base_uri": "https://localhost:8080/"
        },
        "id": "TZyxpgfASrsd",
        "outputId": "2203061a-ddbd-4618-865c-8cb665a8fd74"
      },
      "execution_count": 2,
      "outputs": [
        {
          "output_type": "stream",
          "name": "stdout",
          "text": [
            "[1, 2, 3, 4, 5]\n",
            "[2 3 4 5 6]\n",
            "[[2 3 4]\n",
            " [4 5 6]\n",
            " [7 8 9]]\n"
          ]
        },
        {
          "output_type": "execute_result",
          "data": {
            "text/plain": [
              "(3, 3)"
            ]
          },
          "metadata": {},
          "execution_count": 2
        }
      ]
    },
    {
      "cell_type": "markdown",
      "source": [
        "##Arrays Data Type"
      ],
      "metadata": {
        "id": "E6fvjvaqVOU8"
      }
    },
    {
      "cell_type": "code",
      "source": [
        "import numpy as np\n",
        "\n",
        "a_num = np.array([1,2,3,4,5])\n",
        "a_num.dtype\n",
        "\n",
        "array_2d = np.array([[1, 2, 3],\n",
        "                     [4, \"5\", 6],\n",
        "                     [7, 8, 9]],dtype=np.float32)\n",
        "\n",
        "print(array_2d)\n",
        "\n"
      ],
      "metadata": {
        "colab": {
          "base_uri": "https://localhost:8080/"
        },
        "id": "qvLdfewtVRQ7",
        "outputId": "fc363cd2-94d4-4525-8f98-a14f5fefc39f"
      },
      "execution_count": 12,
      "outputs": [
        {
          "output_type": "stream",
          "name": "stdout",
          "text": [
            "[[1. 2. 3.]\n",
            " [4. 5. 6.]\n",
            " [7. 8. 9.]]\n"
          ]
        }
      ]
    },
    {
      "cell_type": "markdown",
      "source": [
        "##NumPy Array Creation Methods"
      ],
      "metadata": {
        "id": "tshVCyBOV-hV"
      }
    },
    {
      "cell_type": "code",
      "source": [
        "np.full((3,3),10)"
      ],
      "metadata": {
        "colab": {
          "base_uri": "https://localhost:8080/"
        },
        "id": "3mjjhngUV_bp",
        "outputId": "8240a5d7-2741-4e84-f839-a19eabad6b15"
      },
      "execution_count": 13,
      "outputs": [
        {
          "output_type": "execute_result",
          "data": {
            "text/plain": [
              "array([[10, 10, 10],\n",
              "       [10, 10, 10],\n",
              "       [10, 10, 10]])"
            ]
          },
          "metadata": {},
          "execution_count": 13
        }
      ]
    },
    {
      "cell_type": "code",
      "source": [
        "ones = np.ones((4,4))\n",
        "zeros = np.zeros((4,4))\n",
        "\n",
        "ones = ones*6\n",
        "print(ones)\n"
      ],
      "metadata": {
        "colab": {
          "base_uri": "https://localhost:8080/"
        },
        "id": "_4861UjWWcEn",
        "outputId": "c7e9a92e-401d-4c67-c65d-6664311f6601"
      },
      "execution_count": 15,
      "outputs": [
        {
          "output_type": "stream",
          "name": "stdout",
          "text": [
            "[[6. 6. 6. 6.]\n",
            " [6. 6. 6. 6.]\n",
            " [6. 6. 6. 6.]\n",
            " [6. 6. 6. 6.]]\n"
          ]
        }
      ]
    },
    {
      "cell_type": "code",
      "source": [
        "np.arange(10,100,10)"
      ],
      "metadata": {
        "colab": {
          "base_uri": "https://localhost:8080/"
        },
        "id": "J1Msvw2fW0io",
        "outputId": "dcc4dba8-8b78-46df-9285-97a61f451312"
      },
      "execution_count": 17,
      "outputs": [
        {
          "output_type": "execute_result",
          "data": {
            "text/plain": [
              "array([10, 20, 30, 40, 50, 60, 70, 80, 90])"
            ]
          },
          "metadata": {},
          "execution_count": 17
        }
      ]
    },
    {
      "cell_type": "code",
      "source": [
        "np.linspace(10,100,40)"
      ],
      "metadata": {
        "colab": {
          "base_uri": "https://localhost:8080/"
        },
        "id": "lTa1idskXL6-",
        "outputId": "1c44be71-87b9-4e65-e7e1-b7a2101a3c09"
      },
      "execution_count": 19,
      "outputs": [
        {
          "output_type": "execute_result",
          "data": {
            "text/plain": [
              "array([ 10.        ,  12.30769231,  14.61538462,  16.92307692,\n",
              "        19.23076923,  21.53846154,  23.84615385,  26.15384615,\n",
              "        28.46153846,  30.76923077,  33.07692308,  35.38461538,\n",
              "        37.69230769,  40.        ,  42.30769231,  44.61538462,\n",
              "        46.92307692,  49.23076923,  51.53846154,  53.84615385,\n",
              "        56.15384615,  58.46153846,  60.76923077,  63.07692308,\n",
              "        65.38461538,  67.69230769,  70.        ,  72.30769231,\n",
              "        74.61538462,  76.92307692,  79.23076923,  81.53846154,\n",
              "        83.84615385,  86.15384615,  88.46153846,  90.76923077,\n",
              "        93.07692308,  95.38461538,  97.69230769, 100.        ])"
            ]
          },
          "metadata": {},
          "execution_count": 19
        }
      ]
    },
    {
      "cell_type": "markdown",
      "source": [
        "##Operations with Arrays"
      ],
      "metadata": {
        "id": "m5F4uLA2XjQ4"
      }
    },
    {
      "cell_type": "code",
      "source": [
        "l1 = [1,2,3,4,5]\n",
        "l2 = [6,7,8,9,10]\n",
        "\n",
        "a1 = np.array(l1)\n",
        "a2 = np.array(l2)\n"
      ],
      "metadata": {
        "colab": {
          "base_uri": "https://localhost:8080/"
        },
        "id": "aT7tC79-XkRT",
        "outputId": "fccfd149-37d0-4248-c2c4-19c643301a95"
      },
      "execution_count": 21,
      "outputs": [
        {
          "output_type": "execute_result",
          "data": {
            "text/plain": [
              "array([ 7,  9, 11, 13, 15])"
            ]
          },
          "metadata": {},
          "execution_count": 21
        }
      ]
    },
    {
      "cell_type": "code",
      "source": [
        "(a1+a2)*5"
      ],
      "metadata": {
        "colab": {
          "base_uri": "https://localhost:8080/"
        },
        "id": "0vGTTW0KX_iI",
        "outputId": "0fcff259-b9ab-4505-cb60-8d2d2ee8d4d4"
      },
      "execution_count": 22,
      "outputs": [
        {
          "output_type": "execute_result",
          "data": {
            "text/plain": [
              "array([35, 45, 55, 65, 75])"
            ]
          },
          "metadata": {},
          "execution_count": 22
        }
      ]
    },
    {
      "cell_type": "code",
      "source": [
        "a3 = np.array([1,2,3])\n",
        "a4 = np.array([[1],[2]])\n",
        "\n",
        "a3+a4"
      ],
      "metadata": {
        "colab": {
          "base_uri": "https://localhost:8080/"
        },
        "id": "LX2zFmzNYC41",
        "outputId": "1f222d48-85cc-49f4-a569-a9d6f9acf2e0"
      },
      "execution_count": 23,
      "outputs": [
        {
          "output_type": "execute_result",
          "data": {
            "text/plain": [
              "array([[2, 3, 4],\n",
              "       [3, 4, 5]])"
            ]
          },
          "metadata": {},
          "execution_count": 23
        }
      ]
    },
    {
      "cell_type": "code",
      "source": [
        "A = np.array([[1,2],[3,4],[5,6]])\n",
        "B = np.array([1,2,3])\n",
        "\n",
        "A+B\n"
      ],
      "metadata": {
        "colab": {
          "base_uri": "https://localhost:8080/",
          "height": 176
        },
        "id": "lDD-JFEIY2hy",
        "outputId": "41324447-da66-42ae-c124-fe1eebd20be7"
      },
      "execution_count": 24,
      "outputs": [
        {
          "output_type": "error",
          "ename": "ValueError",
          "evalue": "operands could not be broadcast together with shapes (3,2) (3,) ",
          "traceback": [
            "\u001b[0;31m---------------------------------------------------------------------------\u001b[0m",
            "\u001b[0;31mValueError\u001b[0m                                Traceback (most recent call last)",
            "\u001b[0;32m<ipython-input-24-13c1f36ba20a>\u001b[0m in \u001b[0;36m<cell line: 4>\u001b[0;34m()\u001b[0m\n\u001b[1;32m      2\u001b[0m \u001b[0mB\u001b[0m \u001b[0;34m=\u001b[0m \u001b[0mnp\u001b[0m\u001b[0;34m.\u001b[0m\u001b[0marray\u001b[0m\u001b[0;34m(\u001b[0m\u001b[0;34m[\u001b[0m\u001b[0;36m1\u001b[0m\u001b[0;34m,\u001b[0m\u001b[0;36m2\u001b[0m\u001b[0;34m,\u001b[0m\u001b[0;36m3\u001b[0m\u001b[0;34m]\u001b[0m\u001b[0;34m)\u001b[0m\u001b[0;34m\u001b[0m\u001b[0;34m\u001b[0m\u001b[0m\n\u001b[1;32m      3\u001b[0m \u001b[0;34m\u001b[0m\u001b[0m\n\u001b[0;32m----> 4\u001b[0;31m \u001b[0mA\u001b[0m\u001b[0;34m+\u001b[0m\u001b[0mB\u001b[0m\u001b[0;34m\u001b[0m\u001b[0;34m\u001b[0m\u001b[0m\n\u001b[0m",
            "\u001b[0;31mValueError\u001b[0m: operands could not be broadcast together with shapes (3,2) (3,) "
          ]
        }
      ]
    },
    {
      "cell_type": "markdown",
      "source": [
        "##Slicing NumPy Arrays"
      ],
      "metadata": {
        "id": "5ipSE0tUZmO9"
      }
    },
    {
      "cell_type": "code",
      "source": [
        "exam_scores = np.array([90,85,77,92])\n",
        "print(\"First student's score is :\",exam_scores[0])\n"
      ],
      "metadata": {
        "colab": {
          "base_uri": "https://localhost:8080/"
        },
        "id": "28vUwAN8ZnPe",
        "outputId": "16184982-c420-434d-8e06-349ad4d4c521"
      },
      "execution_count": 27,
      "outputs": [
        {
          "output_type": "stream",
          "name": "stdout",
          "text": [
            "First student's score is : 90\n"
          ]
        }
      ]
    },
    {
      "cell_type": "code",
      "source": [
        "sales_data = np.array([\n",
        "    [200,300,400],\n",
        "    [500,600,700],\n",
        "    [800,100,200]\n",
        "])\n",
        "\n",
        "sales_data[0][1]"
      ],
      "metadata": {
        "colab": {
          "base_uri": "https://localhost:8080/"
        },
        "id": "unKF8kmraPt_",
        "outputId": "0de3f055-fe9f-434e-ffdc-f988e4ee75cf"
      },
      "execution_count": 28,
      "outputs": [
        {
          "output_type": "execute_result",
          "data": {
            "text/plain": [
              "300"
            ]
          },
          "metadata": {},
          "execution_count": 28
        }
      ]
    },
    {
      "cell_type": "code",
      "source": [
        "monthly_revenue = np.array([200,110,300,4005,33,44,22,143,134,34,532,34])\n",
        "monthly_revenue[0:4]"
      ],
      "metadata": {
        "colab": {
          "base_uri": "https://localhost:8080/"
        },
        "id": "S7ztmjUaa5yW",
        "outputId": "4a94be74-046a-4dc1-cff9-541af46fc3d4"
      },
      "execution_count": 36,
      "outputs": [
        {
          "output_type": "execute_result",
          "data": {
            "text/plain": [
              "array([ 200,  110,  300, 4005])"
            ]
          },
          "metadata": {},
          "execution_count": 36
        }
      ]
    },
    {
      "cell_type": "code",
      "source": [
        "monthly_revenue[::2]"
      ],
      "metadata": {
        "colab": {
          "base_uri": "https://localhost:8080/"
        },
        "id": "VgkkW_rhbOd0",
        "outputId": "ba655091-5d54-4b44-e68c-655a3438e0d9"
      },
      "execution_count": 37,
      "outputs": [
        {
          "output_type": "execute_result",
          "data": {
            "text/plain": [
              "array([200, 300,  33,  22, 134, 532])"
            ]
          },
          "metadata": {},
          "execution_count": 37
        }
      ]
    },
    {
      "cell_type": "code",
      "source": [
        "avg = np.mean(monthly_revenue)\n",
        "avg"
      ],
      "metadata": {
        "colab": {
          "base_uri": "https://localhost:8080/"
        },
        "id": "487U92PubZ7b",
        "outputId": "e26b3bd2-1e4f-48c9-99a9-84153f1dffee"
      },
      "execution_count": 38,
      "outputs": [
        {
          "output_type": "execute_result",
          "data": {
            "text/plain": [
              "465.9166666666667"
            ]
          },
          "metadata": {},
          "execution_count": 38
        }
      ]
    },
    {
      "cell_type": "code",
      "source": [
        "monthly_revenue[monthly_revenue>avg]"
      ],
      "metadata": {
        "colab": {
          "base_uri": "https://localhost:8080/"
        },
        "id": "Nt4NOlRPbkQ_",
        "outputId": "45338348-d0f8-4254-b01e-badf9387399b"
      },
      "execution_count": 39,
      "outputs": [
        {
          "output_type": "execute_result",
          "data": {
            "text/plain": [
              "array([4005,  532])"
            ]
          },
          "metadata": {},
          "execution_count": 39
        }
      ]
    },
    {
      "cell_type": "markdown",
      "source": [
        "##ExerciseProject 10.1 Slicing and Indexing with NumPy"
      ],
      "metadata": {
        "id": "7qm1ggyscFqh"
      }
    },
    {
      "cell_type": "code",
      "source": [
        "monthly_sales = np.array([200,220,250,275,300,320,350,370,400,420,450,475])\n",
        "\n",
        "print(\"Sales in January :\",monthly_sales[0])\n",
        "print(\"Sales in December :\",monthly_sales[-1])\n",
        "\n",
        "quaterly_sales = ([np.sum(monthly_sales[0:3]),np.sum(monthly_sales[3:6]),np.sum(monthly_sales[6:9]),np.sum(monthly_sales[9:12])])\n",
        "\n",
        "print(quaterly_sales)\n",
        "\n",
        "monthly_sales[3]=280\n",
        "print(monthly_sales)\n",
        "\n",
        "summer = monthly_sales[5:8]\n",
        "print(summer)\n",
        "avg_summer = np.mean(summer)\n",
        "print(avg_summer)\n",
        "\n",
        "above_avg_month = monthly_sales[monthly_sales>np.mean(monthly_sales)]\n",
        "print(above_avg_month)\n"
      ],
      "metadata": {
        "colab": {
          "base_uri": "https://localhost:8080/"
        },
        "id": "bartid5kcGbo",
        "outputId": "f6082f0b-7e7f-49ea-9161-1af5fffa21ec"
      },
      "execution_count": 50,
      "outputs": [
        {
          "output_type": "stream",
          "name": "stdout",
          "text": [
            "Sales in January : 200\n",
            "Sales in December : 475\n",
            "[670, 895, 1120, 1345]\n",
            "[200 220 250 280 300 320 350 370 400 420 450 475]\n",
            "[320 350 370]\n",
            "346.6666666666667\n",
            "[350 370 400 420 450 475]\n"
          ]
        }
      ]
    },
    {
      "cell_type": "markdown",
      "source": [
        "##Loops Versus Vectorization"
      ],
      "metadata": {
        "id": "v6AUTPOaghTD"
      }
    },
    {
      "cell_type": "code",
      "source": [
        "daily_users = [200,220,250,275]\n",
        "\n",
        "du_np = np.array(daily_users)\n",
        "np.mean(du_np)"
      ],
      "metadata": {
        "colab": {
          "base_uri": "https://localhost:8080/"
        },
        "id": "4REB6W3ggiVh",
        "outputId": "5ec35d95-602e-4ca0-8407-decd4480758b"
      },
      "execution_count": 51,
      "outputs": [
        {
          "output_type": "execute_result",
          "data": {
            "text/plain": [
              "236.25"
            ]
          },
          "metadata": {},
          "execution_count": 51
        }
      ]
    },
    {
      "cell_type": "code",
      "source": [
        "import time\n",
        "large_array = np.random.randint(1,100,size=10000000)\n",
        "\n",
        "start_time = time.time()\n",
        "avg = 0\n",
        "for i in large_array:\n",
        "  avg+=i\n",
        "print(avg/10000000000)\n",
        "end_time = time.time()\n",
        "print(\"Loop time : \",end_time-start_time)\n",
        "\n",
        "\n",
        "start_time_np = time.time()\n",
        "print(np.mean(large_array))\n",
        "end_time_np = time.time()\n",
        "print(\"Vectorization time : \",end_time_np-start_time_np)"
      ],
      "metadata": {
        "colab": {
          "base_uri": "https://localhost:8080/"
        },
        "id": "BjwhQYe2g7jM",
        "outputId": "14cadf03-81b3-4eee-f93e-1a588aac9f7b"
      },
      "execution_count": 3,
      "outputs": [
        {
          "output_type": "stream",
          "name": "stdout",
          "text": [
            "0.0499969978\n",
            "Loop time :  1.6320726871490479\n",
            "49.9969978\n",
            "Vectorization time :  0.014075279235839844\n"
          ]
        }
      ]
    },
    {
      "cell_type": "markdown",
      "source": [],
      "metadata": {
        "id": "gV2TGKecieK_"
      }
    },
    {
      "cell_type": "markdown",
      "source": [
        "##ExerciseProject 10.2 Vectorization"
      ],
      "metadata": {
        "id": "o-0JMzrfigAH"
      }
    },
    {
      "cell_type": "code",
      "source": [
        "#Task 1\n",
        "monthly_sales = [100,200,102,203,450,245,253,643,123,532,300,123]\n",
        "discounted_sales =[]\n",
        "\n",
        "for i in range(len(monthly_sales)):\n",
        "  discounted_sales.append(monthly_sales[i]-(monthly_sales[i]*0.1))\n",
        "\n",
        "print(discounted_sales)\n",
        "\n",
        "#Task 2\n",
        "\n",
        "monthly_sales = np.array([100,200,102,203,450,245,253,643,123,532,300,123])\n",
        "discounted_sales = monthly_sales-(monthly_sales*0.1)\n",
        "print(discounted_sales)\n"
      ],
      "metadata": {
        "colab": {
          "base_uri": "https://localhost:8080/"
        },
        "id": "hMbd8lW-ijZf",
        "outputId": "b3a46371-e96c-4897-d4fb-e2685d3b5260"
      },
      "execution_count": 8,
      "outputs": [
        {
          "output_type": "stream",
          "name": "stdout",
          "text": [
            "[90.0, 180.0, 91.8, 182.7, 405.0, 220.5, 227.7, 578.7, 110.7, 478.8, 270.0, 110.7]\n",
            "[ 90.  180.   91.8 182.7 405.  220.5 227.7 578.7 110.7 478.8 270.  110.7]\n"
          ]
        }
      ]
    },
    {
      "cell_type": "markdown",
      "source": [
        "##Universal Functions"
      ],
      "metadata": {
        "id": "Qn5lcWXhkvwm"
      }
    },
    {
      "cell_type": "code",
      "source": [
        "product_prices = np.array([20,24,50,32,55])\n",
        "\n",
        "print(np.sqrt(product_prices))"
      ],
      "metadata": {
        "colab": {
          "base_uri": "https://localhost:8080/"
        },
        "id": "fizJGsMpkxBa",
        "outputId": "3a60c9f5-7acd-49aa-9948-d124088b15e8"
      },
      "execution_count": 10,
      "outputs": [
        {
          "output_type": "stream",
          "name": "stdout",
          "text": [
            "[4.47213595 4.89897949 7.07106781 5.65685425 7.41619849]\n"
          ]
        }
      ]
    },
    {
      "cell_type": "code",
      "source": [
        "revenue = np.array([4000,4500,5000])\n",
        "expenses = np.array([2000,1000,1500])\n",
        "\n",
        "print(np.subtract(revenue,expenses))"
      ],
      "metadata": {
        "colab": {
          "base_uri": "https://localhost:8080/"
        },
        "id": "uuLchm0zlIn-",
        "outputId": "842484e3-edc8-45c2-ef7c-0aa6e2558902"
      },
      "execution_count": 12,
      "outputs": [
        {
          "output_type": "stream",
          "name": "stdout",
          "text": [
            "[2000 3500 3500]\n"
          ]
        }
      ]
    },
    {
      "cell_type": "code",
      "source": [
        "revenue = np.array([4000,4500,5000])\n",
        "expenses = np.array([2000,1000,1500])\n",
        "\n",
        "np.less_equal(expenses, 2000)\n"
      ],
      "metadata": {
        "colab": {
          "base_uri": "https://localhost:8080/"
        },
        "id": "5tuL9jG1liq_",
        "outputId": "66bbdbd3-42b9-4efa-c271-af071d0464db"
      },
      "execution_count": 16,
      "outputs": [
        {
          "output_type": "execute_result",
          "data": {
            "text/plain": [
              "array([ True,  True,  True])"
            ]
          },
          "metadata": {},
          "execution_count": 16
        }
      ]
    },
    {
      "cell_type": "markdown",
      "source": [
        "##Conditional Filtering"
      ],
      "metadata": {
        "id": "yGJPpuiTmrB_"
      }
    },
    {
      "cell_type": "code",
      "source": [
        "scores = np.array([70,50,30,24,60,80,90])\n",
        "eligibility = np.where(scores>50,\"Yes\",\"No\")\n",
        "print(eligibility)"
      ],
      "metadata": {
        "colab": {
          "base_uri": "https://localhost:8080/"
        },
        "id": "n1l6l-qrmyq8",
        "outputId": "16eb8031-147f-4474-ee25-e3a0a0dc1fb3"
      },
      "execution_count": 21,
      "outputs": [
        {
          "output_type": "stream",
          "name": "stdout",
          "text": [
            "['Yes' 'No' 'No' 'No' 'Yes' 'Yes' 'Yes']\n"
          ]
        }
      ]
    },
    {
      "cell_type": "code",
      "source": [
        "eligibility = np.where((scores>30) & (scores<70),\"Yes\",\"No\")\n",
        "print(eligibility)"
      ],
      "metadata": {
        "colab": {
          "base_uri": "https://localhost:8080/"
        },
        "id": "tzj1bLbfnuau",
        "outputId": "eb18fce1-fa02-4c46-853b-13fa80b8a866"
      },
      "execution_count": 22,
      "outputs": [
        {
          "output_type": "stream",
          "name": "stdout",
          "text": [
            "['No' 'Yes' 'No' 'No' 'Yes' 'No' 'No']\n"
          ]
        }
      ]
    },
    {
      "cell_type": "markdown",
      "source": [
        "##Reshaping Arrays\n"
      ],
      "metadata": {
        "id": "Ouwnt1cTqw1j"
      }
    },
    {
      "cell_type": "code",
      "source": [],
      "metadata": {
        "id": "3Yls5lqTqzTW"
      },
      "execution_count": null,
      "outputs": []
    },
    {
      "cell_type": "markdown",
      "source": [
        "##Handling Missing Values Using NumPy"
      ],
      "metadata": {
        "id": "VsM8LFMuoE0j"
      }
    },
    {
      "cell_type": "code",
      "source": [
        "customer_data=np.array([100,150,np.nan,200,156])\n",
        "print(customer_data)\n",
        "missing_values = np.isnan(customer_data)\n",
        "\n",
        "print(\"We missing\",np.sum(missing_values),\"value\")\n",
        "\n",
        "mean_data = np.nanmean(customer_data)\n",
        "\n",
        "data_mean_filled = np.where(np.isnan(customer_data),mean_data,customer_data)\n",
        "\n",
        "print(data_mean_filled)\n"
      ],
      "metadata": {
        "colab": {
          "base_uri": "https://localhost:8080/"
        },
        "id": "lgGgsLdnoF7U",
        "outputId": "c10931b7-1a93-45a6-b0cf-92d5fa25b15b"
      },
      "execution_count": 28,
      "outputs": [
        {
          "output_type": "stream",
          "name": "stdout",
          "text": [
            "[100. 150.  nan 200. 156.]\n",
            "We missing 1 value\n",
            "[100.  150.  151.5 200.  156. ]\n"
          ]
        }
      ]
    },
    {
      "cell_type": "code",
      "source": [
        "customer_data=np.array([100,150,np.nan,200,156])\n",
        "\n",
        "data_without_nan = customer_data[~np.isnan(customer_data)]\n",
        "print(data_without_nan)"
      ],
      "metadata": {
        "colab": {
          "base_uri": "https://localhost:8080/"
        },
        "id": "JTE6y5-GpznV",
        "outputId": "77d5cd50-b2a3-4aac-c616-0d61bf8076f9"
      },
      "execution_count": 31,
      "outputs": [
        {
          "output_type": "stream",
          "name": "stdout",
          "text": [
            "[100. 150. 200. 156.]\n"
          ]
        }
      ]
    },
    {
      "cell_type": "code",
      "source": [],
      "metadata": {
        "id": "kYCPBB5_qWwB"
      },
      "execution_count": null,
      "outputs": []
    }
  ]
}