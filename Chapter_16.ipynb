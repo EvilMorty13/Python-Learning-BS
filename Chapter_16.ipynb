{
  "nbformat": 4,
  "nbformat_minor": 0,
  "metadata": {
    "colab": {
      "provenance": [],
      "authorship_tag": "ABX9TyOMTogAU4TfKF/RpImS/+sB",
      "include_colab_link": true
    },
    "kernelspec": {
      "name": "python3",
      "display_name": "Python 3"
    },
    "language_info": {
      "name": "python"
    }
  },
  "cells": [
    {
      "cell_type": "markdown",
      "metadata": {
        "id": "view-in-github",
        "colab_type": "text"
      },
      "source": [
        "<a href=\"https://colab.research.google.com/github/EvilMorty13/Python-Learning-BS/blob/main/Chapter_16.ipynb\" target=\"_parent\"><img src=\"https://colab.research.google.com/assets/colab-badge.svg\" alt=\"Open In Colab\"/></a>"
      ]
    },
    {
      "cell_type": "markdown",
      "source": [
        "# All Built-In Python Functions"
      ],
      "metadata": {
        "id": "hL51X8tdZybJ"
      }
    },
    {
      "cell_type": "markdown",
      "source": [
        "# abs()\n",
        "Takes the absolute value\n"
      ],
      "metadata": {
        "id": "dh19V41lt91X"
      }
    },
    {
      "cell_type": "code",
      "execution_count": null,
      "metadata": {
        "id": "DyulAkN3iXaE",
        "colab": {
          "base_uri": "https://localhost:8080/"
        },
        "outputId": "f692fea6-8911-45c4-c2cb-29015db5c53f"
      },
      "outputs": [
        {
          "output_type": "stream",
          "name": "stdout",
          "text": [
            "10\n"
          ]
        }
      ],
      "source": [
        "num = -10\n",
        "print(abs(num))"
      ]
    },
    {
      "cell_type": "markdown",
      "source": [
        "#all()\n",
        "Checks if all items are true"
      ],
      "metadata": {
        "id": "SPich7u1uHGF"
      }
    },
    {
      "cell_type": "code",
      "source": [
        "my_list = [True,True,False,True]\n",
        "print(all(my_list))"
      ],
      "metadata": {
        "colab": {
          "base_uri": "https://localhost:8080/"
        },
        "id": "C_YvZ8EguPVB",
        "outputId": "e788f298-4013-4abc-dccc-7475d2cf1177"
      },
      "execution_count": null,
      "outputs": [
        {
          "output_type": "stream",
          "name": "stdout",
          "text": [
            "False\n"
          ]
        }
      ]
    },
    {
      "cell_type": "markdown",
      "source": [
        "# any()\n",
        "Checks if any item are true"
      ],
      "metadata": {
        "id": "pO0mqA2nvJLx"
      }
    },
    {
      "cell_type": "code",
      "source": [
        "my_list = [False,False,False,False]\n",
        "print(any(my_list))"
      ],
      "metadata": {
        "colab": {
          "base_uri": "https://localhost:8080/"
        },
        "id": "_0d3PV6gvNTi",
        "outputId": "48a0d83c-24bf-44b4-91e9-7b354790cf71"
      },
      "execution_count": null,
      "outputs": [
        {
          "output_type": "stream",
          "name": "stdout",
          "text": [
            "False\n"
          ]
        }
      ]
    },
    {
      "cell_type": "markdown",
      "source": [
        "#ascii()\n",
        "Converts text/numbers/symbols/anything to ASCII"
      ],
      "metadata": {
        "id": "-HZC9OG-vpZ7"
      }
    },
    {
      "cell_type": "code",
      "source": [
        "string = \"শুভ সকাল\"\n",
        "print(ascii(string))"
      ],
      "metadata": {
        "colab": {
          "base_uri": "https://localhost:8080/"
        },
        "id": "3KoGJNHov2Xs",
        "outputId": "772a8ab3-8381-409e-958f-2712125b78c3"
      },
      "execution_count": null,
      "outputs": [
        {
          "output_type": "stream",
          "name": "stdout",
          "text": [
            "'\\u09b6\\u09c1\\u09ad \\u09b8\\u0995\\u09be\\u09b2'\n"
          ]
        }
      ]
    },
    {
      "cell_type": "markdown",
      "source": [
        "#bin()\n",
        "Converts numbers to binary format"
      ],
      "metadata": {
        "id": "VvzVFYXawJmv"
      }
    },
    {
      "cell_type": "code",
      "source": [
        "num = 15\n",
        "print(bin(15))"
      ],
      "metadata": {
        "colab": {
          "base_uri": "https://localhost:8080/"
        },
        "id": "WkV3uQQswQKI",
        "outputId": "d67b54e0-9be9-4fb2-bd77-05ec03589dd3"
      },
      "execution_count": null,
      "outputs": [
        {
          "output_type": "stream",
          "name": "stdout",
          "text": [
            "0b1111\n"
          ]
        }
      ]
    },
    {
      "cell_type": "markdown",
      "source": [
        "#bool()\n",
        "Results in a True value,unless the following is used: 0,False,None or an empty object like(),{},[]"
      ],
      "metadata": {
        "id": "vasLtf8Iwj7O"
      }
    },
    {
      "cell_type": "code",
      "source": [
        "num = 0\n",
        "print(bool(num))"
      ],
      "metadata": {
        "colab": {
          "base_uri": "https://localhost:8080/"
        },
        "id": "JvN03L2kw3P_",
        "outputId": "c2c94c5c-58e4-47ce-8ef3-05a0bfc6b1e9"
      },
      "execution_count": null,
      "outputs": [
        {
          "output_type": "stream",
          "name": "stdout",
          "text": [
            "False\n"
          ]
        }
      ]
    },
    {
      "cell_type": "markdown",
      "source": [
        "# breakpoint()\n",
        "Enables more visibility on what is happening behind the scenes when your code is running"
      ],
      "metadata": {
        "id": "7GQTtFIAxP_o"
      }
    },
    {
      "cell_type": "code",
      "source": [
        "def func():\n",
        "  x = 5\n",
        "  breakpoint()\n",
        "  y = 10\n",
        "  return x+y\n",
        "\n",
        "func()"
      ],
      "metadata": {
        "colab": {
          "base_uri": "https://localhost:8080/"
        },
        "id": "0aXuPxdoxmXj",
        "outputId": "0792850f-6499-41c9-95f8-3e92ba9ea529"
      },
      "execution_count": null,
      "outputs": [
        {
          "output_type": "stream",
          "name": "stdout",
          "text": [
            "> \u001b[0;32m<ipython-input-8-909559cb7301>\u001b[0m(4)\u001b[0;36mfunc\u001b[0;34m()\u001b[0m\n",
            "\u001b[0;32m      2 \u001b[0;31m  \u001b[0mx\u001b[0m \u001b[0;34m=\u001b[0m \u001b[0;36m5\u001b[0m\u001b[0;34m\u001b[0m\u001b[0;34m\u001b[0m\u001b[0m\n",
            "\u001b[0m\u001b[0;32m      3 \u001b[0;31m  \u001b[0mbreakpoint\u001b[0m\u001b[0;34m(\u001b[0m\u001b[0;34m)\u001b[0m\u001b[0;34m\u001b[0m\u001b[0;34m\u001b[0m\u001b[0m\n",
            "\u001b[0m\u001b[0;32m----> 4 \u001b[0;31m  \u001b[0my\u001b[0m \u001b[0;34m=\u001b[0m \u001b[0;36m10\u001b[0m\u001b[0;34m\u001b[0m\u001b[0;34m\u001b[0m\u001b[0m\n",
            "\u001b[0m\u001b[0;32m      5 \u001b[0;31m  \u001b[0;32mreturn\u001b[0m \u001b[0mx\u001b[0m\u001b[0;34m+\u001b[0m\u001b[0my\u001b[0m\u001b[0;34m\u001b[0m\u001b[0;34m\u001b[0m\u001b[0m\n",
            "\u001b[0m\u001b[0;32m      6 \u001b[0;31m\u001b[0;34m\u001b[0m\u001b[0m\n",
            "\u001b[0m\n",
            "--KeyboardInterrupt--\n",
            "\n",
            "KeyboardInterrupt: Interrupted by user\n"
          ]
        },
        {
          "output_type": "execute_result",
          "data": {
            "text/plain": [
              "15"
            ]
          },
          "metadata": {},
          "execution_count": 8
        }
      ]
    },
    {
      "cell_type": "markdown",
      "source": [],
      "metadata": {
        "id": "pMgLwjy6zEKK"
      }
    },
    {
      "cell_type": "markdown",
      "source": [
        "## bytearray()\n",
        "Converts objects to bytearray objects"
      ],
      "metadata": {
        "id": "FDBjmWgvuX5P"
      }
    },
    {
      "cell_type": "code",
      "source": [
        "my_list = [65,66,67]\n",
        "print(bytearray(my_list))"
      ],
      "metadata": {
        "colab": {
          "base_uri": "https://localhost:8080/"
        },
        "id": "DFdctnRY6PV9",
        "outputId": "9c3ba853-36b0-41df-e5c1-b9edd78b062a"
      },
      "execution_count": null,
      "outputs": [
        {
          "output_type": "stream",
          "name": "stdout",
          "text": [
            "bytearray(b'ABC')\n"
          ]
        }
      ]
    },
    {
      "cell_type": "markdown",
      "source": [
        "##bytes()\n",
        "Converts objects to byte objects\n",
        "Unlike bytesarray, bytes object can't be modified"
      ],
      "metadata": {
        "id": "aDWkmSx-62ev"
      }
    },
    {
      "cell_type": "code",
      "source": [
        "my_list = [65,66,67]\n",
        "print(bytes(my_list))"
      ],
      "metadata": {
        "colab": {
          "base_uri": "https://localhost:8080/"
        },
        "id": "4MO46qyE7D1F",
        "outputId": "905290cf-de9c-4ac5-eb82-35fe8ae158c0"
      },
      "execution_count": null,
      "outputs": [
        {
          "output_type": "stream",
          "name": "stdout",
          "text": [
            "b'ABC'\n"
          ]
        }
      ]
    },
    {
      "cell_type": "markdown",
      "source": [
        "## callable()\n",
        "Returns True or False if an object in callable\n"
      ],
      "metadata": {
        "id": "VabpuQ837Rgu"
      }
    },
    {
      "cell_type": "code",
      "source": [
        "def func():\n",
        "  return 42\n",
        "\n",
        "callable(func())"
      ],
      "metadata": {
        "colab": {
          "base_uri": "https://localhost:8080/"
        },
        "id": "nRd_iq1b7bNL",
        "outputId": "1d107453-bbf9-441a-a64c-c763fadc1349"
      },
      "execution_count": null,
      "outputs": [
        {
          "output_type": "execute_result",
          "data": {
            "text/plain": [
              "False"
            ]
          },
          "metadata": {},
          "execution_count": 15
        }
      ]
    },
    {
      "cell_type": "markdown",
      "source": [
        "## chr()\n",
        "Returns the unicode value"
      ],
      "metadata": {
        "id": "V8ynWLJi8Kbl"
      }
    },
    {
      "cell_type": "code",
      "source": [
        "num = 65\n",
        "print(chr(num))"
      ],
      "metadata": {
        "colab": {
          "base_uri": "https://localhost:8080/"
        },
        "id": "cutYkDar8QHi",
        "outputId": "5494cded-6322-4e45-9914-f0e903804899"
      },
      "execution_count": null,
      "outputs": [
        {
          "output_type": "stream",
          "name": "stdout",
          "text": [
            "A\n"
          ]
        }
      ]
    },
    {
      "cell_type": "markdown",
      "source": [
        "##classmethod( )\n",
        "Changes a method to a class method"
      ],
      "metadata": {
        "id": "V_3JkYP68dxS"
      }
    },
    {
      "cell_type": "code",
      "source": [
        "class MyClass:\n",
        "    class_var = \"hello there\"\n",
        "\n",
        "    @classmethod\n",
        "    def class_method(cls):\n",
        "        return cls.class_var\n",
        "result = MyClass.class_method()\n",
        "print(result)\n"
      ],
      "metadata": {
        "colab": {
          "base_uri": "https://localhost:8080/"
        },
        "id": "GsFtJqOU8pnN",
        "outputId": "2cf46970-43be-46b4-9879-45c6f486765d"
      },
      "execution_count": null,
      "outputs": [
        {
          "output_type": "stream",
          "name": "stdout",
          "text": [
            "hello there\n"
          ]
        }
      ]
    },
    {
      "cell_type": "markdown",
      "source": [
        "##compile( )\n",
        "Compiles what you type and then executes it"
      ],
      "metadata": {
        "id": "KBtbcqRc9k0R"
      }
    },
    {
      "cell_type": "code",
      "source": [
        "code_str = \"print('Hello world')\"\n",
        "print_obj = compile(code_str,\"<string>\",\"exec\")\n",
        "exec(print_obj)"
      ],
      "metadata": {
        "colab": {
          "base_uri": "https://localhost:8080/"
        },
        "id": "WH027RDl9mk2",
        "outputId": "50f47c16-6a60-4353-f989-2c2214bba2d2"
      },
      "execution_count": null,
      "outputs": [
        {
          "output_type": "stream",
          "name": "stdout",
          "text": [
            "Hello world\n"
          ]
        }
      ]
    },
    {
      "cell_type": "markdown",
      "source": [
        "##complex()\n",
        "Complex numbers in mathematics involve real and imaginary parts. Using the complex method in Python we can get a complex number if we telll python what the real and imaginary numbers."
      ],
      "metadata": {
        "id": "ERVQu0w_-S4v"
      }
    },
    {
      "cell_type": "code",
      "source": [
        "real_part = 3.0\n",
        "imag_part = 4.0\n",
        "\n",
        "print(complex(real_part,imag_part))"
      ],
      "metadata": {
        "colab": {
          "base_uri": "https://localhost:8080/"
        },
        "id": "Zjgzx-4U-sKD",
        "outputId": "b6083299-90c0-45b0-a057-1ae541319ded"
      },
      "execution_count": null,
      "outputs": [
        {
          "output_type": "stream",
          "name": "stdout",
          "text": [
            "(3+4j)\n"
          ]
        }
      ]
    },
    {
      "cell_type": "markdown",
      "source": [
        "## dict()\n",
        "Creates a dictionary(contains data that is in any order,can be changed and indexed)"
      ],
      "metadata": {
        "id": "IoI5CQ3w-5mn"
      }
    },
    {
      "cell_type": "code",
      "source": [
        "dict(a=2,b=4,c=5)"
      ],
      "metadata": {
        "colab": {
          "base_uri": "https://localhost:8080/"
        },
        "id": "MYJ-MQte_Gc1",
        "outputId": "3aee6bec-3936-4668-9fd5-4d43a274828c"
      },
      "execution_count": null,
      "outputs": [
        {
          "output_type": "execute_result",
          "data": {
            "text/plain": [
              "{'a': 2, 'b': 4, 'c': 5}"
            ]
          },
          "metadata": {},
          "execution_count": 23
        }
      ]
    },
    {
      "cell_type": "markdown",
      "source": [
        "##dir( )\n",
        "Shows the contents and what you can do with an objects(which method you can use, etc)"
      ],
      "metadata": {
        "id": "_8geFKDy_Rue"
      }
    },
    {
      "cell_type": "code",
      "source": [
        "my_str = \"This is a string\"\n",
        "dir(my_str)"
      ],
      "metadata": {
        "colab": {
          "base_uri": "https://localhost:8080/"
        },
        "id": "vAf8ym2B_dfX",
        "outputId": "93f84e17-f943-4629-eeb1-15a94125a248"
      },
      "execution_count": null,
      "outputs": [
        {
          "output_type": "execute_result",
          "data": {
            "text/plain": [
              "['__add__',\n",
              " '__class__',\n",
              " '__contains__',\n",
              " '__delattr__',\n",
              " '__dir__',\n",
              " '__doc__',\n",
              " '__eq__',\n",
              " '__format__',\n",
              " '__ge__',\n",
              " '__getattribute__',\n",
              " '__getitem__',\n",
              " '__getnewargs__',\n",
              " '__gt__',\n",
              " '__hash__',\n",
              " '__init__',\n",
              " '__init_subclass__',\n",
              " '__iter__',\n",
              " '__le__',\n",
              " '__len__',\n",
              " '__lt__',\n",
              " '__mod__',\n",
              " '__mul__',\n",
              " '__ne__',\n",
              " '__new__',\n",
              " '__reduce__',\n",
              " '__reduce_ex__',\n",
              " '__repr__',\n",
              " '__rmod__',\n",
              " '__rmul__',\n",
              " '__setattr__',\n",
              " '__sizeof__',\n",
              " '__str__',\n",
              " '__subclasshook__',\n",
              " 'capitalize',\n",
              " 'casefold',\n",
              " 'center',\n",
              " 'count',\n",
              " 'encode',\n",
              " 'endswith',\n",
              " 'expandtabs',\n",
              " 'find',\n",
              " 'format',\n",
              " 'format_map',\n",
              " 'index',\n",
              " 'isalnum',\n",
              " 'isalpha',\n",
              " 'isascii',\n",
              " 'isdecimal',\n",
              " 'isdigit',\n",
              " 'isidentifier',\n",
              " 'islower',\n",
              " 'isnumeric',\n",
              " 'isprintable',\n",
              " 'isspace',\n",
              " 'istitle',\n",
              " 'isupper',\n",
              " 'join',\n",
              " 'ljust',\n",
              " 'lower',\n",
              " 'lstrip',\n",
              " 'maketrans',\n",
              " 'partition',\n",
              " 'removeprefix',\n",
              " 'removesuffix',\n",
              " 'replace',\n",
              " 'rfind',\n",
              " 'rindex',\n",
              " 'rjust',\n",
              " 'rpartition',\n",
              " 'rsplit',\n",
              " 'rstrip',\n",
              " 'split',\n",
              " 'splitlines',\n",
              " 'startswith',\n",
              " 'strip',\n",
              " 'swapcase',\n",
              " 'title',\n",
              " 'translate',\n",
              " 'upper',\n",
              " 'zfill']"
            ]
          },
          "metadata": {},
          "execution_count": 24
        }
      ]
    },
    {
      "cell_type": "markdown",
      "source": [
        "##divmod( )\n",
        "Provides the result of a division and the reminder"
      ],
      "metadata": {
        "id": "a94SInRlAkQi"
      }
    },
    {
      "cell_type": "code",
      "source": [
        "print(20,6)"
      ],
      "metadata": {
        "colab": {
          "base_uri": "https://localhost:8080/"
        },
        "id": "iXy1OeLqAr2v",
        "outputId": "f4611383-5b00-4364-d241-9743ec634b95"
      },
      "execution_count": null,
      "outputs": [
        {
          "output_type": "stream",
          "name": "stdout",
          "text": [
            "20 6\n"
          ]
        }
      ]
    },
    {
      "cell_type": "markdown",
      "source": [
        "##enumerate( )\n",
        "Provides us with the index and the value of a list"
      ],
      "metadata": {
        "id": "Hsc-2E9PA4qi"
      }
    },
    {
      "cell_type": "code",
      "source": [
        "my_list = [\"Apple\",\"Microsoft\",\"Google\"]\n",
        "\n",
        "for index,company in enumerate(my_list):\n",
        "  print(index,company)"
      ],
      "metadata": {
        "colab": {
          "base_uri": "https://localhost:8080/"
        },
        "id": "kjW5IGPrA-yH",
        "outputId": "ff82b467-4431-47f6-8d09-bd3c5c2413da"
      },
      "execution_count": null,
      "outputs": [
        {
          "output_type": "stream",
          "name": "stdout",
          "text": [
            "0 Apple\n",
            "1 Microsoft\n",
            "2 Google\n"
          ]
        }
      ]
    },
    {
      "cell_type": "markdown",
      "source": [
        "## eval( )\n",
        "Interprets and runs the code if the Python code is valid(without errors)"
      ],
      "metadata": {
        "id": "eTvOx7XVDx2u"
      }
    },
    {
      "cell_type": "code",
      "source": [
        "user_input = \"3+7\"\n",
        "print(eval(user_input))"
      ],
      "metadata": {
        "colab": {
          "base_uri": "https://localhost:8080/"
        },
        "id": "wnTQsuzND97f",
        "outputId": "5677a561-acb5-46ef-9fcf-69bb38164f8a"
      },
      "execution_count": null,
      "outputs": [
        {
          "output_type": "stream",
          "name": "stdout",
          "text": [
            "10\n"
          ]
        }
      ]
    },
    {
      "cell_type": "markdown",
      "source": [
        "##exec( )\n",
        "Similar to the eval function(which executes code,if valid) exec allows us to run code on many lines"
      ],
      "metadata": {
        "id": "_9NQHwr_EOri"
      }
    },
    {
      "cell_type": "code",
      "source": [
        "code_str=\"\"\"\n",
        "def greet(name):\n",
        "  print(\"Hello \"+name)\n",
        "\n",
        "greet(\"Maria\")\n",
        "\"\"\"\n",
        "exec(code_str)"
      ],
      "metadata": {
        "colab": {
          "base_uri": "https://localhost:8080/"
        },
        "id": "HQhXnU68Ei0P",
        "outputId": "bae5bd37-5ce4-41b8-9cbb-bd755dc1f6d3"
      },
      "execution_count": null,
      "outputs": [
        {
          "output_type": "stream",
          "name": "stdout",
          "text": [
            "Hello Maria\n"
          ]
        }
      ]
    },
    {
      "cell_type": "markdown",
      "source": [
        "##filter( )\n",
        "Filters a list(can be easier than creating loops)"
      ],
      "metadata": {
        "id": "L2PEoiwDE15h"
      }
    },
    {
      "cell_type": "code",
      "source": [
        "my_list=[1,2,3,4,5,6,7,8,9,10]\n",
        "\n",
        "def is_even(x):\n",
        "  return x%2==0\n",
        "\n",
        "list(filter(is_even,my_list))"
      ],
      "metadata": {
        "colab": {
          "base_uri": "https://localhost:8080/"
        },
        "id": "alnT6m9HE-5C",
        "outputId": "8f83a310-295f-4af4-bbf2-7188e497dc7f"
      },
      "execution_count": null,
      "outputs": [
        {
          "output_type": "execute_result",
          "data": {
            "text/plain": [
              "[2, 4, 6, 8, 10]"
            ]
          },
          "metadata": {},
          "execution_count": 32
        }
      ]
    },
    {
      "cell_type": "markdown",
      "source": [
        "##float()\n",
        "Coverts a number into a floating number"
      ],
      "metadata": {
        "id": "pVjt9-3zFTBb"
      }
    },
    {
      "cell_type": "code",
      "source": [
        "num = 10\n",
        "print(float(num))"
      ],
      "metadata": {
        "colab": {
          "base_uri": "https://localhost:8080/"
        },
        "id": "oXTDBLN3Fbz1",
        "outputId": "6e140b9b-7562-4eb0-e6b9-4fe363cce27a"
      },
      "execution_count": null,
      "outputs": [
        {
          "output_type": "stream",
          "name": "stdout",
          "text": [
            "10.0\n"
          ]
        }
      ]
    },
    {
      "cell_type": "markdown",
      "source": [
        "##format( )\n",
        "A faster way to format data in a more readable way"
      ],
      "metadata": {
        "id": "wSp1djUaFgRo"
      }
    },
    {
      "cell_type": "code",
      "source": [
        "name = \"Alex\"\n",
        "age = 40\n",
        "\n",
        "print(\"My name is {} and I am {} years old\".format(name,age))"
      ],
      "metadata": {
        "colab": {
          "base_uri": "https://localhost:8080/"
        },
        "id": "vYsXFoeiFm64",
        "outputId": "1c99c8c7-85d0-4f2d-f2e6-f87d588ac3b0"
      },
      "execution_count": null,
      "outputs": [
        {
          "output_type": "stream",
          "name": "stdout",
          "text": [
            "My name is Alex and I am 40 years old\n"
          ]
        }
      ]
    },
    {
      "cell_type": "markdown",
      "source": [
        "##frozenset()\n",
        "Allows us to create a set that we can't change"
      ],
      "metadata": {
        "id": "Z1rHaocQF8ii"
      }
    },
    {
      "cell_type": "code",
      "source": [
        "frozenset([1,2,3,4,5,6,1,2])"
      ],
      "metadata": {
        "colab": {
          "base_uri": "https://localhost:8080/"
        },
        "id": "x7I7JmJ7GGno",
        "outputId": "537e431b-5b15-412e-e2ae-5cb3db248593"
      },
      "execution_count": null,
      "outputs": [
        {
          "output_type": "execute_result",
          "data": {
            "text/plain": [
              "frozenset({1, 2, 3, 4, 5, 6})"
            ]
          },
          "metadata": {},
          "execution_count": 38
        }
      ]
    },
    {
      "cell_type": "markdown",
      "source": [
        "## hash()\n",
        "Provides hash value of an object"
      ],
      "metadata": {
        "id": "2zVyyuXUGamV"
      }
    },
    {
      "cell_type": "code",
      "source": [
        "var = \"This is a string\"\n",
        "print(var)\n",
        "print(hash(var))"
      ],
      "metadata": {
        "colab": {
          "base_uri": "https://localhost:8080/"
        },
        "id": "CsMIXik4GgHs",
        "outputId": "32b5f9d1-6beb-4f99-d526-345f3a8a07e0"
      },
      "execution_count": null,
      "outputs": [
        {
          "output_type": "stream",
          "name": "stdout",
          "text": [
            "This is a string\n",
            "-87096780702200969\n"
          ]
        }
      ]
    },
    {
      "cell_type": "markdown",
      "source": [
        "##help( )\n",
        "Quick and easy way to get instant help when coding"
      ],
      "metadata": {
        "id": "gxA2ZWlmHJxb"
      }
    },
    {
      "cell_type": "code",
      "source": [
        "help(abs)"
      ],
      "metadata": {
        "colab": {
          "base_uri": "https://localhost:8080/"
        },
        "id": "W0g_KqWUHQeg",
        "outputId": "a5350019-24b6-43be-896d-b1f293b94bc0"
      },
      "execution_count": null,
      "outputs": [
        {
          "output_type": "stream",
          "name": "stdout",
          "text": [
            "Help on built-in function abs in module builtins:\n",
            "\n",
            "abs(x, /)\n",
            "    Return the absolute value of the argument.\n",
            "\n"
          ]
        }
      ]
    },
    {
      "cell_type": "markdown",
      "source": [
        "##hex( )\n",
        "Converts to hexadecimal"
      ],
      "metadata": {
        "id": "RFXFZt9THYdo"
      }
    },
    {
      "cell_type": "code",
      "source": [
        "num = 140\n",
        "print(hex(num))"
      ],
      "metadata": {
        "colab": {
          "base_uri": "https://localhost:8080/"
        },
        "id": "zs0tui-xHhCC",
        "outputId": "ba5328fe-5f80-49c5-f0c7-b10e7f41fd9f"
      },
      "execution_count": null,
      "outputs": [
        {
          "output_type": "stream",
          "name": "stdout",
          "text": [
            "0x8c\n"
          ]
        }
      ]
    },
    {
      "cell_type": "markdown",
      "source": [
        "##id()\n",
        "Provides the ID of an object"
      ],
      "metadata": {
        "id": "w3d19r5LHqMk"
      }
    },
    {
      "cell_type": "code",
      "source": [
        "x = 55\n",
        "y = x\n",
        "print(id(x))\n",
        "print(id(y))"
      ],
      "metadata": {
        "colab": {
          "base_uri": "https://localhost:8080/"
        },
        "id": "WAvuYc_bHxm9",
        "outputId": "463a4014-3ba0-41e2-e3f8-9d1d38e60956"
      },
      "execution_count": null,
      "outputs": [
        {
          "output_type": "stream",
          "name": "stdout",
          "text": [
            "134327495788464\n",
            "134327495788464\n"
          ]
        }
      ]
    },
    {
      "cell_type": "markdown",
      "source": [
        "##input()\n",
        "Lets the user enter an input"
      ],
      "metadata": {
        "id": "kH9ofrgbIF02"
      }
    },
    {
      "cell_type": "code",
      "source": [
        "age = input(\"Enter your age : \")\n",
        "print(f\"Your age is :\",age)"
      ],
      "metadata": {
        "colab": {
          "base_uri": "https://localhost:8080/"
        },
        "id": "K229jnDrIZ8W",
        "outputId": "42183535-4fee-4b8d-ad52-e8ce0c822c23"
      },
      "execution_count": null,
      "outputs": [
        {
          "output_type": "stream",
          "name": "stdout",
          "text": [
            "Enter your age : 20\n",
            "Your age is : 20\n"
          ]
        }
      ]
    },
    {
      "cell_type": "markdown",
      "source": [
        "##int()\n",
        "Sets the data type of an item to integer"
      ],
      "metadata": {
        "id": "vA5V7cpLIers"
      }
    },
    {
      "cell_type": "code",
      "source": [
        "num = 2.7\n",
        "print(int(num))"
      ],
      "metadata": {
        "colab": {
          "base_uri": "https://localhost:8080/"
        },
        "id": "9EWE2ZmvImsH",
        "outputId": "89a5cd64-0573-44d4-de91-850b14fafdc3"
      },
      "execution_count": null,
      "outputs": [
        {
          "output_type": "stream",
          "name": "stdout",
          "text": [
            "2\n"
          ]
        }
      ]
    },
    {
      "cell_type": "markdown",
      "source": [
        "##isinstance()\n",
        "Checks to see if an object is an instance of an object (if true, results in true)\n"
      ],
      "metadata": {
        "id": "INCiBQbQIvvI"
      }
    },
    {
      "cell_type": "code",
      "source": [
        "isinstance(50,int)"
      ],
      "metadata": {
        "colab": {
          "base_uri": "https://localhost:8080/"
        },
        "id": "0mZfmwbvI7Er",
        "outputId": "627b4793-9494-417f-dbcd-fd375d77d1e4"
      },
      "execution_count": null,
      "outputs": [
        {
          "output_type": "execute_result",
          "data": {
            "text/plain": [
              "True"
            ]
          },
          "metadata": {},
          "execution_count": 55
        }
      ]
    },
    {
      "cell_type": "markdown",
      "source": [
        "##issubclass()\n",
        "If a class is a subclass of an object(meaning a child of a parent class) then issubclass is ture"
      ],
      "metadata": {
        "id": "LYbgpqiQJKPe"
      }
    },
    {
      "cell_type": "code",
      "source": [
        "class Parent:\n",
        "  pass\n",
        "\n",
        "class Child(Parent):\n",
        "  pass\n",
        "\n",
        "issubclass(Child,Parent)"
      ],
      "metadata": {
        "colab": {
          "base_uri": "https://localhost:8080/"
        },
        "id": "6bVn7Ne7JUqa",
        "outputId": "af248d8f-7427-41a7-9020-9e57b713c052"
      },
      "execution_count": null,
      "outputs": [
        {
          "output_type": "execute_result",
          "data": {
            "text/plain": [
              "True"
            ]
          },
          "metadata": {},
          "execution_count": 57
        }
      ]
    },
    {
      "cell_type": "markdown",
      "source": [
        "##iter()\n",
        "Provides the iterator object"
      ],
      "metadata": {
        "id": "DMDPHOTHJslK"
      }
    },
    {
      "cell_type": "code",
      "source": [
        "my_list = [1,2,3,4]\n",
        "my_iter = iter(my_list)\n",
        "\n",
        "for item in my_iter:\n",
        "  print(item)\n"
      ],
      "metadata": {
        "colab": {
          "base_uri": "https://localhost:8080/"
        },
        "id": "p-ihZHv8JxHI",
        "outputId": "582232a7-ced3-49ef-a821-098d9305cc41"
      },
      "execution_count": null,
      "outputs": [
        {
          "output_type": "stream",
          "name": "stdout",
          "text": [
            "1\n",
            "2\n",
            "3\n",
            "4\n"
          ]
        }
      ]
    },
    {
      "cell_type": "markdown",
      "source": [
        "##len()\n",
        "Provides the length of of an item"
      ],
      "metadata": {
        "id": "hVV9GXUFKBVy"
      }
    },
    {
      "cell_type": "code",
      "source": [
        "my_list = [12,23,5,43,66]\n",
        "\n",
        "print(len(my_list))"
      ],
      "metadata": {
        "colab": {
          "base_uri": "https://localhost:8080/"
        },
        "id": "hK1Q0pblKITz",
        "outputId": "7d67e3c3-fd1e-4cec-ab33-8189e30b9aac"
      },
      "execution_count": null,
      "outputs": [
        {
          "output_type": "stream",
          "name": "stdout",
          "text": [
            "5\n"
          ]
        }
      ]
    },
    {
      "cell_type": "markdown",
      "source": [
        "##list()\n",
        "Creats a list object"
      ],
      "metadata": {
        "id": "AQhKrFJeKPHa"
      }
    },
    {
      "cell_type": "code",
      "source": [
        "list((1,2,3,4,5))"
      ],
      "metadata": {
        "colab": {
          "base_uri": "https://localhost:8080/"
        },
        "id": "x5eEpDE0KV_5",
        "outputId": "c7c387a7-45fc-4e9b-c27b-47ef93eeaa05"
      },
      "execution_count": null,
      "outputs": [
        {
          "output_type": "execute_result",
          "data": {
            "text/plain": [
              "[1, 2, 3, 4, 5]"
            ]
          },
          "metadata": {},
          "execution_count": 62
        }
      ]
    },
    {
      "cell_type": "markdown",
      "source": [
        "##map()\n",
        "Provides us with the iterator specified of a function applied to items in the list"
      ],
      "metadata": {
        "id": "VrQFqFv0KZpC"
      }
    },
    {
      "cell_type": "code",
      "source": [
        "def square(x):\n",
        "  return x**2\n",
        "\n",
        "my_list = [1,2,3,4,5]\n",
        "\n",
        "list(map(square,my_list))"
      ],
      "metadata": {
        "colab": {
          "base_uri": "https://localhost:8080/"
        },
        "id": "1H0nmrtPKl49",
        "outputId": "e0e7ad14-abb5-4b18-e8e6-5d9217c2840a"
      },
      "execution_count": null,
      "outputs": [
        {
          "output_type": "execute_result",
          "data": {
            "text/plain": [
              "[1, 4, 9, 16, 25]"
            ]
          },
          "metadata": {},
          "execution_count": 63
        }
      ]
    },
    {
      "cell_type": "markdown",
      "source": [
        "##max()\n",
        "Provides the maximum number in a list"
      ],
      "metadata": {
        "id": "41tXnnvzLIdr"
      }
    },
    {
      "cell_type": "code",
      "source": [
        "my_list = [12,34,5,12,44,66,34]\n",
        "\n",
        "print(max(my_list))"
      ],
      "metadata": {
        "colab": {
          "base_uri": "https://localhost:8080/"
        },
        "id": "DpfV_hjcLPJ3",
        "outputId": "148f7783-fcd1-4d7a-caa2-b67b1eb6afea"
      },
      "execution_count": null,
      "outputs": [
        {
          "output_type": "stream",
          "name": "stdout",
          "text": [
            "66\n"
          ]
        }
      ]
    },
    {
      "cell_type": "markdown",
      "source": [
        "##min()\n",
        "Provides the minimum number in a list"
      ],
      "metadata": {
        "id": "PbyxjbzdLaIo"
      }
    },
    {
      "cell_type": "code",
      "source": [
        "my_list = [12,34,5,12,44,66,34]\n",
        "\n",
        "print(min(my_list))"
      ],
      "metadata": {
        "colab": {
          "base_uri": "https://localhost:8080/"
        },
        "id": "S4yfAdJ3Lfyy",
        "outputId": "29dc3279-c2b7-408d-885c-a40d448af0a2"
      },
      "execution_count": null,
      "outputs": [
        {
          "output_type": "stream",
          "name": "stdout",
          "text": [
            "5\n"
          ]
        }
      ]
    },
    {
      "cell_type": "markdown",
      "source": [
        "##next()\n",
        "Next function in Python retrieves the\n",
        "next item from an iterator and advances the iterator by one\n",
        "position."
      ],
      "metadata": {
        "id": "Z60jmUCwLjjn"
      }
    },
    {
      "cell_type": "code",
      "source": [
        "my_list = [1,2,3,4]\n",
        "my_iter = iter(my_list)\n",
        "\n",
        "next(my_iter)"
      ],
      "metadata": {
        "colab": {
          "base_uri": "https://localhost:8080/"
        },
        "id": "yOOUun2_LpVN",
        "outputId": "dfa25369-b38a-4577-d1d7-a418794f9dd9"
      },
      "execution_count": null,
      "outputs": [
        {
          "output_type": "execute_result",
          "data": {
            "text/plain": [
              "1"
            ]
          },
          "metadata": {},
          "execution_count": 67
        }
      ]
    },
    {
      "cell_type": "code",
      "source": [
        "next(my_iter)"
      ],
      "metadata": {
        "colab": {
          "base_uri": "https://localhost:8080/"
        },
        "id": "jFP6qSLxLyeW",
        "outputId": "045bc5a2-ca29-442f-e18c-08bd792f3393"
      },
      "execution_count": null,
      "outputs": [
        {
          "output_type": "execute_result",
          "data": {
            "text/plain": [
              "2"
            ]
          },
          "metadata": {},
          "execution_count": 68
        }
      ]
    },
    {
      "cell_type": "markdown",
      "source": [
        "##oct()\n",
        "Converts a number into an octal number"
      ],
      "metadata": {
        "id": "6sQJAPz3L0Ei"
      }
    },
    {
      "cell_type": "code",
      "source": [
        "num = 19\n",
        "print(oct(num))"
      ],
      "metadata": {
        "colab": {
          "base_uri": "https://localhost:8080/"
        },
        "id": "mrJixhHoL7rE",
        "outputId": "3b750213-c8ef-438e-a433-5d66365bf14a"
      },
      "execution_count": null,
      "outputs": [
        {
          "output_type": "stream",
          "name": "stdout",
          "text": [
            "0o23\n"
          ]
        }
      ]
    },
    {
      "cell_type": "markdown",
      "source": [
        "##open()\n",
        "Opens a file,which we can select as read only"
      ],
      "metadata": {
        "id": "5nxzdBs9MBJv"
      }
    },
    {
      "cell_type": "code",
      "source": [
        "exm =\"example.txt\"\n",
        "\n",
        "with open(exm,\"r\")as f:\n",
        "  print(f.read())"
      ],
      "metadata": {
        "colab": {
          "base_uri": "https://localhost:8080/"
        },
        "id": "5xwklDBZMKEr",
        "outputId": "00f3859e-291d-4ab7-e27b-5d9f6e76302e"
      },
      "execution_count": null,
      "outputs": [
        {
          "output_type": "stream",
          "name": "stdout",
          "text": [
            "This is an example file\n"
          ]
        }
      ]
    },
    {
      "cell_type": "markdown",
      "source": [
        "##ord()\n",
        "Finds a Unicode code for a charater\n"
      ],
      "metadata": {
        "id": "P1A5W4d4SDio"
      }
    },
    {
      "cell_type": "code",
      "source": [
        "char = \"A\"\n",
        "ord(char)"
      ],
      "metadata": {
        "colab": {
          "base_uri": "https://localhost:8080/"
        },
        "id": "K-eLt936SKZL",
        "outputId": "a2138b47-0712-44cd-d0ea-a74826cf6116"
      },
      "execution_count": null,
      "outputs": [
        {
          "output_type": "execute_result",
          "data": {
            "text/plain": [
              "65"
            ]
          },
          "metadata": {},
          "execution_count": 74
        }
      ]
    },
    {
      "cell_type": "markdown",
      "source": [
        "##pow()\n",
        "To get the power of one number to the other"
      ],
      "metadata": {
        "id": "9PUcMnb1SRZ1"
      }
    },
    {
      "cell_type": "code",
      "source": [
        "print(pow(2,3))"
      ],
      "metadata": {
        "colab": {
          "base_uri": "https://localhost:8080/"
        },
        "id": "5Rtmb9p7SaBD",
        "outputId": "dd721fcd-fcb3-4ec4-cdbc-178f3c2ad5ee"
      },
      "execution_count": null,
      "outputs": [
        {
          "output_type": "stream",
          "name": "stdout",
          "text": [
            "8\n"
          ]
        }
      ]
    },
    {
      "cell_type": "markdown",
      "source": [
        "##print()\n",
        "Prints the user the output"
      ],
      "metadata": {
        "id": "jTpoCNhUSdUV"
      }
    },
    {
      "cell_type": "code",
      "source": [
        "print(\"Hello world\")"
      ],
      "metadata": {
        "colab": {
          "base_uri": "https://localhost:8080/"
        },
        "id": "ciazx283Skkb",
        "outputId": "4fa3e7dd-244e-4560-ca8b-5879b597cee1"
      },
      "execution_count": null,
      "outputs": [
        {
          "output_type": "stream",
          "name": "stdout",
          "text": [
            "Hello world\n"
          ]
        }
      ]
    },
    {
      "cell_type": "markdown",
      "source": [
        "##range()\n",
        "Provides us with a sequence often starting with 0 and increased by increments of 1"
      ],
      "metadata": {
        "id": "bi8u2eK4So7o"
      }
    },
    {
      "cell_type": "code",
      "source": [
        "list(range(1,20,3))"
      ],
      "metadata": {
        "colab": {
          "base_uri": "https://localhost:8080/"
        },
        "id": "fKXvAHuzSyPf",
        "outputId": "7e550101-2148-418f-c59a-a78a50fd0521"
      },
      "execution_count": null,
      "outputs": [
        {
          "output_type": "execute_result",
          "data": {
            "text/plain": [
              "[1, 4, 7, 10, 13, 16, 19]"
            ]
          },
          "metadata": {},
          "execution_count": 78
        }
      ]
    },
    {
      "cell_type": "markdown",
      "source": [
        "##repr()\n",
        "Similar to str, but provides us with more detail on a value, used for debugging purposes"
      ],
      "metadata": {
        "id": "uvHUwBv4S629"
      }
    },
    {
      "cell_type": "code",
      "source": [
        "text =\"Hello world\"\n",
        "repr(text)"
      ],
      "metadata": {
        "colab": {
          "base_uri": "https://localhost:8080/",
          "height": 38
        },
        "id": "wUDl2HwZTEcs",
        "outputId": "99735ad3-ef53-47d6-ddb7-169578ba0216"
      },
      "execution_count": null,
      "outputs": [
        {
          "output_type": "execute_result",
          "data": {
            "text/plain": [
              "\"'Hello world'\""
            ],
            "application/vnd.google.colaboratory.intrinsic+json": {
              "type": "string"
            }
          },
          "metadata": {},
          "execution_count": 79
        }
      ]
    },
    {
      "cell_type": "markdown",
      "source": [
        "##reversed()\n",
        "Reversed the order of a list(applies to string,tuples and most iterables)\n"
      ],
      "metadata": {
        "id": "k1hOS-yaTSyZ"
      }
    },
    {
      "cell_type": "code",
      "source": [
        "my_list = [1,2,3,4,5]\n",
        "print(list(reversed(my_list)))"
      ],
      "metadata": {
        "colab": {
          "base_uri": "https://localhost:8080/"
        },
        "id": "PT7WwbFmTdMm",
        "outputId": "62910c71-2882-4c0c-f57e-3f7e3f462b1d"
      },
      "execution_count": null,
      "outputs": [
        {
          "output_type": "stream",
          "name": "stdout",
          "text": [
            "[5, 4, 3, 2, 1]\n"
          ]
        }
      ]
    },
    {
      "cell_type": "markdown",
      "source": [
        "##round()\n",
        "Rounds a number to the specified number of decimal points"
      ],
      "metadata": {
        "id": "wYjhbvz_UMF0"
      }
    },
    {
      "cell_type": "code",
      "source": [
        "num = 10.6\n",
        "print(round(num))"
      ],
      "metadata": {
        "colab": {
          "base_uri": "https://localhost:8080/"
        },
        "id": "2wrkA9WFUTeo",
        "outputId": "7d4534c3-23b0-4a10-e201-38b0d1af7440"
      },
      "execution_count": null,
      "outputs": [
        {
          "output_type": "stream",
          "name": "stdout",
          "text": [
            "11\n"
          ]
        }
      ]
    },
    {
      "cell_type": "markdown",
      "source": [
        "##set()\n",
        "A way to create a list that has unique elements"
      ],
      "metadata": {
        "id": "ETuFHSFIUgqX"
      }
    },
    {
      "cell_type": "code",
      "source": [
        "my_list =[1,2,2,3,1,3,4,5,6,7]\n",
        "set(my_list)"
      ],
      "metadata": {
        "colab": {
          "base_uri": "https://localhost:8080/"
        },
        "id": "dTwb0VCjUmDg",
        "outputId": "e6ee24a0-883d-4c40-a1d9-aafdd04aaf8c"
      },
      "execution_count": null,
      "outputs": [
        {
          "output_type": "execute_result",
          "data": {
            "text/plain": [
              "{1, 2, 3, 4, 5, 6, 7}"
            ]
          },
          "metadata": {},
          "execution_count": 88
        }
      ]
    },
    {
      "cell_type": "markdown",
      "source": [
        "##slice()\n",
        "Provides part of a data set"
      ],
      "metadata": {
        "id": "fSZRzj3dUvAX"
      }
    },
    {
      "cell_type": "code",
      "source": [
        "my_list = [1,2,3,4,5,6]\n",
        "my_slice = slice(1,3)\n",
        "\n",
        "my_list[my_slice]"
      ],
      "metadata": {
        "colab": {
          "base_uri": "https://localhost:8080/"
        },
        "id": "fLwbBEi4UzQh",
        "outputId": "63e66078-5ff1-4d8b-c82f-afa5a3e58ac6"
      },
      "execution_count": null,
      "outputs": [
        {
          "output_type": "execute_result",
          "data": {
            "text/plain": [
              "[2, 3]"
            ]
          },
          "metadata": {},
          "execution_count": 91
        }
      ]
    },
    {
      "cell_type": "markdown",
      "source": [
        "##sorted()\n",
        "Simple way to sort a list"
      ],
      "metadata": {
        "id": "AaSLR6d1VKs5"
      }
    },
    {
      "cell_type": "code",
      "source": [
        "my_list = [34,52,23,56,12,34]\n",
        "print(sorted(my_list))"
      ],
      "metadata": {
        "colab": {
          "base_uri": "https://localhost:8080/"
        },
        "id": "EuE0mzd1VVjV",
        "outputId": "5f08ef2d-88f3-4f19-af62-7fe7d305e113"
      },
      "execution_count": null,
      "outputs": [
        {
          "output_type": "stream",
          "name": "stdout",
          "text": [
            "[12, 23, 34, 34, 52, 56]\n"
          ]
        }
      ]
    },
    {
      "cell_type": "markdown",
      "source": [
        "##str()\n",
        "Converts the item to a string"
      ],
      "metadata": {
        "id": "bWHp8FamVpb5"
      }
    },
    {
      "cell_type": "code",
      "source": [
        "num = 123\n",
        "num = str(num)\n",
        "print(type(num))"
      ],
      "metadata": {
        "colab": {
          "base_uri": "https://localhost:8080/"
        },
        "id": "pvWNUNmkV0xZ",
        "outputId": "568028da-ee35-49a7-b1c4-e74e1ee63bda"
      },
      "execution_count": null,
      "outputs": [
        {
          "output_type": "stream",
          "name": "stdout",
          "text": [
            "<class 'str'>\n"
          ]
        }
      ]
    },
    {
      "cell_type": "markdown",
      "source": [
        "##sum()\n",
        "Add the elements together in a numerical list"
      ],
      "metadata": {
        "id": "innq2D_cV7x6"
      }
    },
    {
      "cell_type": "code",
      "source": [
        "my_list = [3,4,5,1,5,12]\n",
        "print(sum(my_list))"
      ],
      "metadata": {
        "colab": {
          "base_uri": "https://localhost:8080/"
        },
        "id": "Vz1dWbm7WCbn",
        "outputId": "50b90fa1-bcfc-4e5a-8347-ed86428dc8fc"
      },
      "execution_count": null,
      "outputs": [
        {
          "output_type": "stream",
          "name": "stdout",
          "text": [
            "30\n"
          ]
        }
      ]
    },
    {
      "cell_type": "markdown",
      "source": [
        "##tuple()\n",
        "Similar to a list, but you can't add more elements to it"
      ],
      "metadata": {
        "id": "q-hQujscWKsK"
      }
    },
    {
      "cell_type": "code",
      "source": [
        "tuple([1,23,4,5,6,77])"
      ],
      "metadata": {
        "colab": {
          "base_uri": "https://localhost:8080/"
        },
        "id": "oAjGzwZSWSfT",
        "outputId": "0048087d-e44a-44bd-ea73-d394bb966e7b"
      },
      "execution_count": null,
      "outputs": [
        {
          "output_type": "execute_result",
          "data": {
            "text/plain": [
              "(1, 23, 4, 5, 6, 77)"
            ]
          },
          "metadata": {},
          "execution_count": 96
        }
      ]
    },
    {
      "cell_type": "markdown",
      "source": [
        "##type()\n",
        "Describes the type of an object."
      ],
      "metadata": {
        "id": "6P2usISaWXAu"
      }
    },
    {
      "cell_type": "code",
      "source": [
        "num = 12\n",
        "string = \"hello\"\n",
        "print(type(num))\n",
        "print(type(string))"
      ],
      "metadata": {
        "colab": {
          "base_uri": "https://localhost:8080/"
        },
        "id": "ApqGvP0xWeKl",
        "outputId": "a30ba9ff-43b7-4adc-a1b1-069ea6be867d"
      },
      "execution_count": null,
      "outputs": [
        {
          "output_type": "stream",
          "name": "stdout",
          "text": [
            "<class 'int'>\n",
            "<class 'str'>\n"
          ]
        }
      ]
    },
    {
      "cell_type": "markdown",
      "source": [
        "##zip()\n",
        "Zip function in Python combines\n",
        "elements from multiple iterables into tuples, creating a zip object\n",
        "of paired elements.\n"
      ],
      "metadata": {
        "id": "VGYGG3zOWsR7"
      }
    },
    {
      "cell_type": "code",
      "source": [
        "names = [\"Suarez\", \"Messi\", \"Neymar\"]\n",
        "goals = [500, 900, 700]\n",
        "list(zip(names,goals))"
      ],
      "metadata": {
        "colab": {
          "base_uri": "https://localhost:8080/"
        },
        "id": "M1r2AyWiXUSY",
        "outputId": "1d291a49-51c5-43f1-e0da-a48bfbb38319"
      },
      "execution_count": null,
      "outputs": [
        {
          "output_type": "execute_result",
          "data": {
            "text/plain": [
              "[('Suarez', 500), ('Messi', 900), ('Neymar', 700)]"
            ]
          },
          "metadata": {},
          "execution_count": 1
        }
      ]
    },
    {
      "cell_type": "markdown",
      "source": [],
      "metadata": {
        "id": "KUqvhan-Vehr"
      }
    }
  ]
}