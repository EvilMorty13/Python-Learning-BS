{
  "nbformat": 4,
  "nbformat_minor": 0,
  "metadata": {
    "colab": {
      "provenance": [],
      "authorship_tag": "ABX9TyMtZZ8MqwOfWwqlFwD70f0R",
      "include_colab_link": true
    },
    "kernelspec": {
      "name": "python3",
      "display_name": "Python 3"
    },
    "language_info": {
      "name": "python"
    }
  },
  "cells": [
    {
      "cell_type": "markdown",
      "metadata": {
        "id": "view-in-github",
        "colab_type": "text"
      },
      "source": [
        "<a href=\"https://colab.research.google.com/github/EvilMorty13/Python-Learning-BS/blob/main/Chapter_3.ipynb\" target=\"_parent\"><img src=\"https://colab.research.google.com/assets/colab-badge.svg\" alt=\"Open In Colab\"/></a>"
      ]
    },
    {
      "cell_type": "code",
      "execution_count": 3,
      "metadata": {
        "colab": {
          "base_uri": "https://localhost:8080/"
        },
        "id": "EJVGR2plz1ZT",
        "outputId": "bec1846b-7aac-45d6-a951-c1ddd1599102"
      },
      "outputs": [
        {
          "output_type": "stream",
          "name": "stdout",
          "text": [
            "1.3\n"
          ]
        }
      ],
      "source": [
        "#Excercise 3.1\n",
        "\n",
        "ahsoka = 1.7\n",
        "yoda = 0.66\n",
        "r2d2 = 1.09\n",
        "c3p0 = 1.75\n",
        "\n",
        "avg_height = (ahsoka+yoda+r2d2+c3p0)/4\n",
        "\n",
        "print(avg_height)\n"
      ]
    },
    {
      "cell_type": "code",
      "source": [
        "name = \"yoda\"\n",
        "print(\"Your name is \"+name)\n",
        "height = 0.66\n",
        "age = 900\n",
        "\n",
        "print(\"Name, height and age is \"+name+\" \"+str(height)+\" \"+str(age))"
      ],
      "metadata": {
        "colab": {
          "base_uri": "https://localhost:8080/"
        },
        "id": "-PdCksMy6Ptx",
        "outputId": "b1c2538c-2261-4370-c32e-caccb85a84e9"
      },
      "execution_count": 8,
      "outputs": [
        {
          "output_type": "stream",
          "name": "stdout",
          "text": [
            "Your name is yoda\n",
            "Name, height and age is yoda 0.66 900\n"
          ]
        }
      ]
    },
    {
      "cell_type": "code",
      "source": [
        "#Excercise 3.2\n",
        "\n",
        "name1 = \"Jack\"\n",
        "name2 = \"Rose\"\n",
        "year = 1912\n",
        "\n",
        "\n",
        "print(name1+\" and \"+name2+\" were on the titanic in \"+str(year))\n"
      ],
      "metadata": {
        "colab": {
          "base_uri": "https://localhost:8080/"
        },
        "id": "aEFeF1Eu7Ka6",
        "outputId": "abe5afa3-495c-4380-930a-160d9db3ea54"
      },
      "execution_count": 13,
      "outputs": [
        {
          "output_type": "stream",
          "name": "stdout",
          "text": [
            "Jack and Rose were on the titanic in 1912\n"
          ]
        }
      ]
    },
    {
      "cell_type": "code",
      "source": [
        "#Excercise 3 final\n",
        "\n",
        "principal = 1000\n",
        "rate = 5\n",
        "time = 2\n",
        "\n",
        "interest = (principal*rate*time)/100\n",
        "\n",
        "\n",
        "print(\"The principal is \"+str(principal)+ \" , the rate is \"+str(rate)+\" , the time is \"+str(time)+\" ,the interest is \"+str(interest))\n",
        "\n"
      ],
      "metadata": {
        "colab": {
          "base_uri": "https://localhost:8080/"
        },
        "id": "q4S2Flfy8NPo",
        "outputId": "f9ab4f84-c2c7-4199-f7c0-0675f431138e"
      },
      "execution_count": 18,
      "outputs": [
        {
          "output_type": "stream",
          "name": "stdout",
          "text": [
            "The principal is 1000 , the rate is 5 , the time is 2 ,the interest is 100.0\n"
          ]
        }
      ]
    }
  ]
}